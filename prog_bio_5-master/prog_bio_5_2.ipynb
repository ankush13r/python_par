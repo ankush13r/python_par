{
 "cells": [
  {
   "cell_type": "markdown",
   "metadata": {},
   "source": [
    "# Programación para la Bioinformática"
   ]
  },
  {
   "cell_type": "markdown",
   "metadata": {},
   "source": [
    "Unidad 5: ADN, ARN, secuencias y motivos (Parte 2)\n",
    "--------------------------------------------------\n",
    "\n",
    "### Instrucciones de uso\n",
    "A continuación se presentará la teoría y algún ejemplo de algoritmo genético. Recordad que podéis ir ejecutando los ejemplos para obtener sus resultados."
   ]
  },
  {
   "cell_type": "markdown",
   "metadata": {},
   "source": [
    "### Algoritmos inspirados en la naturaleza\n",
    "Existe una categoría de algoritmos que utilizan conceptos basados o inspirados en la naturaleza estableciendo una metáfora que los hace más comprensibles para los humanos. Muy populares en algoritmos de inteligencia artificial, empezaron a aparecer en la década de los 70 del siglo pasado y en la última década han explotado hasta convertirse en métodos casi estándares.\n",
    "\n",
    "Una familia de algoritmos de inteligencia artificial inspirados en la naturaleza muy populares son los **algoritmos genéticos**. Los algoritmos genéticos utilizan conceptos de la genética, como son las mutaciones, los mecanismos de selección o los cruces. Los algoritmos genéticos se utilizan con el objetivo de optimizar valores de una función cualquiera en su espacio de valores. El funcionamiento básico del algoritmo está descrito en la siguiente figura (fuente Wikipedia - https://es.wikipedia.org/wiki/Algoritmo_gen%C3%A9tico):\n",
    "\n",
    "<img src=\"media/alg_genetico.png\">\n",
    "\n",
    "* **Inicialización** (I). Se genera aleatoriamente una población inicial, constituida por un conjunto de cromosomas (o también llamados genes) que representan posibles soluciones del problema. Esta población deberá tener una diversidad inicial lo suficientemente rica para garantizar que el algoritmo no converja de forma prematura en soluciones no óptimas.\n",
    "* **Evaluación** (?). Para cada uno de los cromosomas, lo evaluaremos en el espacio de búsqueda (aplicaremos la función que deseamos optimizar) y después calcularemos la distancia a la solución que queremos obtener. Esta solución objetivo es muy importante y está codificada en la función de *fitness* que dirigirá la evolución hacia esa solución óptima (podemos conocerla o no, en este segundo caso, la expresaremos en forma de función: cuán rápido es un coche, cuál es la cantidad monetaria más grande, etc.). Deberemos, además, definir las condiciones de parada del algoritmo para no entrar en bucle infinito: o bien acotando el número de pasos del algoritmo o bien cuando en la población ya no haya cambios. \n",
    "* **Selección** (Se). Si no se ha dado la condición de parada, se procede a elegir los cromosomas que serán cruzados en la siguiente generación, para ello, seleccionaremos los mejores cromosomas ordenándolos por su aptitud.\n",
    "* **Cruce** (Cr). Representa en esta metáfora la reproducción sexual y opera sobre dos cromosomas a la vez para generar dos descendientes donde se combinan las características de ambos cromosomas padres.\n",
    "* **Mutación** (Mu). Modifica de forma aleatoria parte del cromosoma de los individuos de la población para añadir diversidad y poder salir de pozos locales en el espacio de búsqueda.\n",
    "* **Reemplazo** (Re). Una vez aplicados los operadores genéticos, se seleccionan los mejores individuos para conformar la población de la generación siguiente y continuar con otro paso de la simulación."
   ]
  },
  {
   "cell_type": "markdown",
   "metadata": {},
   "source": [
    "### Ejercicio 1\n",
    "El siguiente código es una implementación de un algoritmo genético que optimiza la búsqueda de un string, es decir, dado un string **objetivo**, intentad encontrar esa cadena empezando desde diversas cadenas con caracteres aleatorios."
   ]
  },
  {
   "cell_type": "code",
   "execution_count": 13,
   "metadata": {},
   "outputs": [
    {
     "name": "stdout",
     "output_type": "stream",
     "text": [
      "Se ha alcanzado el máximo de generaciones\n",
      "Pasos de simulación: 600\n",
      "\n",
      "  Fitness         ADN\n",
      "------------------------\n",
      "    50          pztaon\n",
      "    50          pztaon\n",
      "    50          pytaoo\n",
      "    50          pztaon\n",
      "    51          oztaon\n",
      "    51          oztaon\n",
      "    52          pztano\n",
      "    53          p{taon\n",
      "    64          pyt`on\n",
      "    64          pyt`on\n",
      "    64          pyt`on\n",
      "    64          pyt`on\n",
      "    64          pyt`on\n",
      "    64          pyt`on\n",
      "    65          pyu`on\n",
      "    65          pyu`on\n",
      "    65          pyu`on\n",
      "    65          pyt`oo\n",
      "    65          pyt`nn\n",
      "    51          oztaon\n",
      "\n"
     ]
    }
   ],
   "source": [
    "import random\n",
    "import string\n",
    "\n",
    "\n",
    "objetivo = \"python\"\n",
    "generations_population_list = []\n",
    "\n",
    "GENES = 20\n",
    "MAX_GENERACION = 600\n",
    "\n",
    "class Individuo(object): #Clase con un constructor que guarda los valores de los adn y fitness\n",
    "    def __init__(self, adn, fitness):\n",
    "        self.adn = adn\n",
    "        self.fitness = fitness\n",
    "\n",
    "\n",
    "def calcular_fitness(origen, valor_objetivo): #Método para calcular fitness, depediento del adn(origen) y objetivo (python)\n",
    "    fitness = 0\n",
    "    for i in range(0, len(origen)):\n",
    "        fitness += (ord(valor_objetivo[i]) - ord(origen[i])) ** 2\n",
    "        # aqui coge el código asci del carácter [i], que es un numérico  del valor_objetivo y lo resta con el código del origen[i]. Después lo eleva por 2(**2)\n",
    "        #Así cada valor que obtiene lo va sumando en el fitness\n",
    "        \n",
    "    return fitness # devuelve valor total del fitness\n",
    "\n",
    "\n",
    "def mutacion(padre1, padre2):\n",
    "    adn_hijo = padre1.adn[:] \n",
    "    #Aquí coge el valor del padre1.adn[:] y guarda como adn_hijo.([:] se pone para no haga referencia al mismo objeto)\n",
    "\n",
    "    \n",
    "    start = random.randint(0, len(padre2.adn) - 1) # Start será un número aleatorio entre 0 y longitud del adn del padre\n",
    "    stop = random.randint(0, len(padre2.adn) - 1) \n",
    "    if start > stop: # Si el start mayor que el stop, entonces, cambián los valores \n",
    "        stop, start = start, stop\n",
    "\n",
    "    adn_hijo[start:stop] = padre2.adn[start:stop]\n",
    "    #Aquí cierta longitud del adn del hijo se cambia por el adn del padre, dependiendo del start y stop\n",
    "\n",
    "    posicion = random.randint(0, len(adn_hijo) - 1) # En posicion se guarda un número aletorio de 0 a longitud del hijo\n",
    "    adn_hijo[posicion] = chr(ord(adn_hijo[posicion]) + random.randint(-1, 1))\n",
    "    #Aquí se cambia un carácter de una posición concreta del adn_hijo, sumando o restando le 1 (assci) al carácter actual.  \n",
    "    fitness_hijo = calcular_fitness(adn_hijo, objetivo) # Obitene un valor numérico desde el método calcular_fitness.\n",
    "    return Individuo(adn_hijo, fitness_hijo) # Devuleve objeto Individio (hijo)\n",
    "\n",
    "\n",
    "def padre_al_azar(poblacion):\n",
    "    #Coge un elemento aleatoriamente desde la lista población\n",
    "    return poblacion[int(random.random() * random.random() * (GENES - 1))] \n",
    "    # random.random() devuelve un valor entre float(0.0, 1.0)\n",
    "\n",
    "def escribe_generacion(generacion, poblacion):\n",
    "    print('Pasos de simulación: %d' % generacion)\n",
    "    print()\n",
    "    print('  Fitness         ADN')\n",
    "    print('------------------------')\n",
    "    for candidato in poblacion:\n",
    "        print(\"%6i %15s\" % (candidato.fitness, ''.join(candidato.adn)))\n",
    "    print()\n",
    "\n",
    "\n",
    "def inicializa_poblacion():\n",
    "    poblacion = []\n",
    "\n",
    "    for i in range(0, GENES):\n",
    "         # El bucle crea lista de los caracteres aleatoriamente desde la lista (string.printable[:-5]). -5, porque, los últimos 6 són espacios o none printable\n",
    "        adn = [random.choice(string.printable[:-5]) for _ in range(0, len(objetivo))] \n",
    "        \"\"\"Es mejor poner[:-6], porque los últimos 6 aón como espacios \"\"\"\n",
    "        fitness = calcular_fitness(adn, objetivo) # Entra en el método de calcular_fitness() y obtiene un valor numérico\n",
    "        fitness = calcular_fitness(adn, objetivo) # Entra en el método de calcular_fitness() y obtiene un valor numérico\n",
    "        candidate = Individuo(adn, fitness) # Crea el objeto a partir de la clase Individuo (así pasando le dos valores al constructor de la clase)\n",
    "        poblacion.append(candidate) # Lo va guardando en la lesta población, el objeto candidate\n",
    "    return poblacion # Devuelve la lista población que guarda los valores del ADN y  fitness\n",
    "\n",
    "def simulacion():\n",
    "    poblacion = inicializa_poblacion() # Entra en el método inicializa_poblacion() , obtiene una lista de población\n",
    "    generacion = 0 # incializando el objeto de la clase int\n",
    "    \n",
    "    \"\"\"No veo ningún sentido del poner << True >>, ya que tiene una condición puesta.\"\"\"\n",
    "    while True and generacion < MAX_GENERACION: # Entra en bucle con la condición de hasta que se alcance al número máximo de la gneración(MAX_GENERACION)\n",
    "        generacion += 1 # Se guarda la cantidad de la generación que se va creando. \n",
    "        poblacion.sort(key=lambda candidate: candidate.fitness)#ordena la lista poblacón por su atributo fitness de menor a mayor \n",
    "        \n",
    "        if poblacion[0].fitness == 0:\n",
    "            break\n",
    "\n",
    "        padre1 = padre_al_azar(poblacion)   # Llama a un método para crear el padre aletoriamente\n",
    "        padre2 = padre_al_azar(poblacion)\n",
    "\n",
    "        hijo = mutacion(padre1, padre2) # Recive el objeto Individuo\n",
    "        if hijo.fitness < poblacion[-1].fitness: # Si el valor del hijo.fitness es menor que el último valor\n",
    "            poblacion[-1] = hijo # Se guarda el hijo en la última posición población\n",
    "            generations_population_list.append(poblacion[:])\n",
    "                       \n",
    "    if generacion == MAX_GENERACION: # Si las generación llega al limite, entonce imprime lo seguiente:\n",
    "        print(u'Se ha alcanzado el máximo de generaciones')\n",
    "    escribe_generacion(generacion, poblacion) #Al salir del bucle escribimos la boblación creada\n",
    "\n",
    "        \n",
    "simulacion()"
   ]
  },
  {
   "cell_type": "markdown",
   "metadata": {},
   "source": [
    "Es muy importante, tanto en bioinformática como en programación en general, leer e interpretar código de otros programadores. Por ello, en este ejercicio se os pide que comentéis el código anterior con comentarios en el propio código que expliquen las partes más importantes de este."
   ]
  },
  {
   "cell_type": "markdown",
   "metadata": {},
   "source": [
    "### Ejercicio 2\n",
    "\n",
    "Escribe una función de fitness alternativa. Recuerda que fitness=0 indica que la cadena objetivo se ha conseguido. Explica en qué consiste tu función de fitness."
   ]
  },
  {
   "cell_type": "code",
   "execution_count": 8,
   "metadata": {},
   "outputs": [
    {
     "name": "stdout",
     "output_type": "stream",
     "text": [
      "ADN difrente ->   90\n",
      "ADN igual ->      13\n"
     ]
    }
   ],
   "source": [
    "# Respuesta\n",
    "\n",
    "\n",
    "def calcular_fitness2(origen, valor_objetivo):\n",
    "    # Creo una lista en el que guardo los valor absolutos,obtenidos y los sumo después para gardar como fitness\n",
    "    # valor: Cada valor que se guarda en la lista són:(La difrencia entre posicón de cada caracter (ascii) \n",
    "    # y multiplicado por el número de la posición en la lista, donde se ecuentra el carácter difrente)\n",
    "\n",
    "    fitness = sum([abs(ord(origen[i])-ord(valor_objetivo[i]))*(abs(i-(len(valor_objetivo)))) \n",
    "                   for i in range(0, len(origen)) if valor_objetivo[i] != origen[i]]) \n",
    "    return fitness\n",
    "\n",
    "\n",
    "print(\"ADN difrente ->  \",calcular_fitness2(\"aython\",\"python\"))\n",
    "print(\"ADN igual ->     \",calcular_fitness2(\"pythoa\",\"python\"))"
   ]
  },
  {
   "cell_type": "markdown",
   "metadata": {},
   "source": [
    "### Ejercicio 3\n",
    "\n",
    "Representa utilizando matplotlib el máximo fitness, el mínimo y la media por paso de la simulación en un gráfico:"
   ]
  },
  {
   "cell_type": "code",
   "execution_count": 14,
   "metadata": {},
   "outputs": [
    {
     "data": {
      "image/png": "[encoded data removed]",
      "text/plain": [
       "<Figure size 432x288 with 1 Axes>"
      ]
     },
     "metadata": {
      "needs_background": "light"
     },
     "output_type": "display_data"
    }
   ],
   "source": [
    "%matplotlib inline\n",
    "\n",
    "import matplotlib\n",
    "import numpy as np\n",
    "import matplotlib.pyplot as plt\n",
    "\n",
    "\n",
    "all_generations_persons_fitness_AVG = []\n",
    "all_generations_persons_fitness_MAX = []\n",
    "all_generations_persons_fitness_MIN = []\n",
    "\n",
    "\n",
    "for population in generations_population_list[-100:]:\n",
    "    \n",
    "    generation_persons_fitness_values = [person.fitness for person in population]\n",
    "    \n",
    "    all_generations_persons_fitness_AVG.append(int(np.average(generation_persons_fitness_values)))\n",
    "    all_generations_persons_fitness_MAX.append(int(np.max(generation_persons_fitness_values)))\n",
    "    all_generations_persons_fitness_MIN.append(int(np.min(generation_persons_fitness_values)))\n",
    "\n",
    "total_generations = np.arange(len(all_generations_persons_fitness_AVG))\n",
    "\n",
    "plt.plot(all_generations_persons_fitness_MAX, 'r')\n",
    "plt.plot(all_generations_persons_fitness_AVG, 'g')\n",
    "plt.plot(all_generations_persons_fitness_MIN, 'b')\n",
    "\n",
    "plt.legend(('MAX', 'AVG','MIN'))\n",
    "plt.xlabel(\"Generacions\")\n",
    "plt.ylabel(\"Fitness\")\n",
    "\n",
    "plt.draw()"
   ]
  },
  {
   "cell_type": "code",
   "execution_count": null,
   "metadata": {},
   "outputs": [],
   "source": []
  }
 ],
 "metadata": {
  "kernelspec": {
   "display_name": "Python 3",
   "language": "python",
   "name": "python3"
  },
  "language_info": {
   "codemirror_mode": {
    "name": "ipython",
    "version": 3
   },
   "file_extension": ".py",
   "mimetype": "text/x-python",
   "name": "python",
   "nbconvert_exporter": "python",
   "pygments_lexer": "ipython3",
   "version": "3.7.3"
  }
 },
 "nbformat": 4,
 "nbformat_minor": 2
}
