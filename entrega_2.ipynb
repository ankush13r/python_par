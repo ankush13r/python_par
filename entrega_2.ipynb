{
 "cells": [
  {
   "cell_type": "markdown",
   "metadata": {},
   "source": [
    " Programación para la Bioinformática\n",
    " --------------------------------------------------------"
   ]
  },
  {
   "cell_type": "markdown",
   "metadata": {},
   "source": [
    "## Módulo 2: Breve introducción a la programación en Python"
   ]
  },
  {
   "cell_type": "markdown",
   "metadata": {},
   "source": [
    "Ejercicios y preguntas teóricas\n",
    "-------------------------------\n",
    "\n",
    "A continuación, encontraréis la parte que tenéis que completar en este modulo y las preguntas teóricas a contestar.\n",
    "\n",
    "Podéis encontrar en la documentación oficial de *string* funciones que os puedan ser de ayuda para completar los ejercicios: https://docs.python.org/2/library/string.html"
   ]
  },
  {
   "cell_type": "markdown",
   "metadata": {},
   "source": [
    "### Pregunta 1\n",
    "¿Cuál es la diferencia entre definir un string con comillas simples (' '), comillas dobles(\" \") y tres comillas dobles (\"\"\" \"\"\")? \n",
    "\n",
    "**Pon un ejemplo de cada uno de ellos**.\n",
    "\n",
    "**Respuesta:**\n",
    "\n",
    "* No hay ninguna difrencia entre las comillas. \n",
    "\n"
   ]
  },
  {
   "cell_type": "markdown",
   "metadata": {},
   "source": [
    "Haz doble click sobre este texto, borralo, escribe aquí tu respuesta y pulsa el botón \"Run\" de la barra superior."
   ]
  },
  {
   "cell_type": "markdown",
   "metadata": {},
   "source": [
    "### Pregunta 2\n",
    "¿Qué expresión en Python (la más idiomática que encuentres) necesitamos para conseguir el string \"ACTGACTGACTGACTGACTGACTGACTGACTGACTGACTGACTGACTG\" utilizando solo la palabra \"ACTG\"?\n",
    "\n",
    "**Respuesta:**"
   ]
  },
  {
   "cell_type": "code",
   "execution_count": 6,
   "metadata": {},
   "outputs": [
    {
     "name": "stdout",
     "output_type": "stream",
     "text": [
      "ACTGACTGACTGACTGACTGACTGACTGACTGACTGACTGACTG\n"
     ]
    }
   ],
   "source": [
    "### Respuesta incorrecta ###\n",
    "print(\"ACTG\" + \"ACTG\" + \"ACTG\" + \"ACTG\")"
   ]
  },
  {
   "cell_type": "code",
   "execution_count": 7,
   "metadata": {},
   "outputs": [
    {
     "name": "stdout",
     "output_type": "stream",
     "text": [
      "ACTG\n",
      "ACTG\n",
      "ACTG\n",
      "ACTG\n",
      "ACTG\n",
      "ACTG\n",
      "ACTG\n",
      "ACTG\n",
      "ACTG\n",
      "ACTG\n"
     ]
    }
   ],
   "source": [
    "### Respuesta incorrecta ###\n",
    "for _ in range(10): \n",
    "    print(\"ACTG\")"
   ]
  },
  {
   "cell_type": "code",
   "execution_count": 11,
   "metadata": {},
   "outputs": [
    {
     "name": "stdout",
     "output_type": "stream",
     "text": [
      "ACTGACTGACTGACTGACTGACTGACTGACTGACTGACTGACTG\n"
     ]
    }
   ],
   "source": [
    "# Tu respuesta\n",
    "print(\"ACTG\" * 11)"
   ]
  },
  {
   "cell_type": "markdown",
   "metadata": {},
   "source": [
    "### Pregunta 3\n",
    "\n",
    "**¿Cuál es el valor final de a, b y c (atención a los tipos de número decimal y entero)?**\n",
    "\n",
    "a = 3*2\n",
    "\n",
    "b = 9/2.\n",
    "\n",
    "c, a = a+1, b*2\n",
    "\n",
    "b = a // 5\n",
    "\n",
    "** Nota: ** Tened en cuenta el tipo de variable (int, float, bool, str) y su comportamiento en cada momento."
   ]
  },
  {
   "cell_type": "markdown",
   "metadata": {},
   "source": [
    "Tu respuesta:\n",
    "\n",
    "a = 9.0 \n",
    "\n",
    "b = 1.0\n",
    "\n",
    "c = 7"
   ]
  },
  {
   "cell_type": "markdown",
   "metadata": {},
   "source": [
    "Queremos saber cual es el valor final y porqué. Puedes ejecutar el código en una nueva celda para comprobar que tu respuesta es correcta.\n",
    "\n",
    "**No son lo mismo: 9 y 9.0**\n",
    "\n",
    "**Son lo mismo: 9. y 9.0**"
   ]
  },
  {
   "cell_type": "code",
   "execution_count": 38,
   "metadata": {},
   "outputs": [
    {
     "name": "stdout",
     "output_type": "stream",
     "text": [
      "9.0\n",
      "1.0\n",
      "7\n"
     ]
    }
   ],
   "source": [
    "a = 3*2\n",
    "\n",
    "b = 9/2.\n",
    "\n",
    "c, a = a+1, b*2\n",
    "\n",
    "b = a // 5\n",
    "\n",
    "print(a)\n",
    "print(b)\n",
    "print(c)"
   ]
  },
  {
   "cell_type": "markdown",
   "metadata": {},
   "source": [
    "### Pregunta 4\n",
    "\n",
    "**¿Cuáles de las siguientes expresiones son sintácticamente incorrectas? Explica el porqué una por una**\n",
    "* planetas = 'Saturno', 'Jupiter', 'Tierra'\n",
    "* t = ('123', 'abc', 0, )\n",
    "* dias = ['Lunes', 'Martes', \"Miercoles\", ''.join(['J','u','e','v','e','s'])]\n",
    "* matriz = [[],[],[],[],()]\n",
    "* t = r = s = u = 0 + 1\n",
    "* a = 1; a += 1; a += []\n",
    "\n",
    "**Respuesta:**\n",
    "\n",
    "* 1) Sería bién poner todos los valor en un paréntesis\n",
    "* 2) Sobra una <,>.\n",
    "* 3) Sobra hacer el join, ya que poniendo solo jueves ya vale.\n",
    "* 4) Si es una matriz no es lǵico que contenga () paréntesis.\n",
    "* 5) poniendo t = 0 + 1 ya vale, ya que todas las variable apunta a la misma dirección.\n",
    "* 6) No se puede sumar un integer or float con una array."
   ]
  },
  {
   "cell_type": "markdown",
   "metadata": {},
   "source": [
    "Tu respuesta. Puedes ejecutar el código en una nueva celda para comprobar que tu respuesta es correcta."
   ]
  },
  {
   "cell_type": "code",
   "execution_count": 51,
   "metadata": {},
   "outputs": [
    {
     "name": "stdout",
     "output_type": "stream",
     "text": [
      "('Saturno', 'Jupiter', 'Tierra')\n",
      "('123', 'abc', 0)\n",
      "['Lunes', 'Martes', 'Miercoles', 'J u e v e s']\n",
      "[[], [], [], [], ()]\n",
      "1\n"
     ]
    },
    {
     "ename": "TypeError",
     "evalue": "unsupported operand type(s) for +=: 'int' and 'list'",
     "output_type": "error",
     "traceback": [
      "\u001b[0;31m---------------------------------------------------------------------------\u001b[0m",
      "\u001b[0;31mTypeError\u001b[0m                                 Traceback (most recent call last)",
      "\u001b[0;32m<ipython-input-51-136808ffa0de>\u001b[0m in \u001b[0;36m<module>\u001b[0;34m\u001b[0m\n\u001b[1;32m     16\u001b[0m \u001b[0ma\u001b[0m \u001b[0;34m=\u001b[0m \u001b[0;36m1\u001b[0m\u001b[0;34m;\u001b[0m\u001b[0;34m\u001b[0m\u001b[0;34m\u001b[0m\u001b[0m\n\u001b[1;32m     17\u001b[0m \u001b[0ma\u001b[0m \u001b[0;34m+=\u001b[0m \u001b[0;36m1\u001b[0m\u001b[0;34m;\u001b[0m\u001b[0;34m\u001b[0m\u001b[0;34m\u001b[0m\u001b[0m\n\u001b[0;32m---> 18\u001b[0;31m \u001b[0ma\u001b[0m \u001b[0;34m+=\u001b[0m \u001b[0;34m[\u001b[0m\u001b[0;34m]\u001b[0m \u001b[0;31m# Aqui hay un error que el a intenta sumar con a y una arry\u001b[0m\u001b[0;34m\u001b[0m\u001b[0;34m\u001b[0m\u001b[0m\n\u001b[0m",
      "\u001b[0;31mTypeError\u001b[0m: unsupported operand type(s) for +=: 'int' and 'list'"
     ]
    }
   ],
   "source": [
    "planetas = 'Saturno', 'Jupiter', 'Tierra'\n",
    "print(planetas)\n",
    "\n",
    "t = ('123', 'abc', 0, )\n",
    "print(t)\n",
    "\n",
    "dias = ['Lunes', 'Martes', \"Miercoles\", ''.join(['J','u','e','v','e','s'])]\n",
    "print(dias)\n",
    "\n",
    "matriz = [[],[],[],[],()]\n",
    "print(matriz)\n",
    "\n",
    "t = r = s = u = 0 + 1\n",
    "print(t)\n",
    "\n",
    "a = 1; \n",
    "a += 1;\n",
    "a += [] # Aqui hay un error que el a intenta sumar con a y una arry\n"
   ]
  },
  {
   "cell_type": "markdown",
   "metadata": {},
   "source": [
    "### Pregunta 5\n",
    "\n",
    "Explica a qué se refieren con el término \"batteries included\" en la comunidad Python. **Poned 5 ejemplos de paquetes de la librería estándar y una explicación de cada uno de ellos.**\n",
    "\n",
    "**Respuesta:**"
   ]
  },
  {
   "cell_type": "markdown",
   "metadata": {},
   "source": [
    " "
   ]
  },
  {
   "cell_type": "markdown",
   "metadata": {},
   "source": [
    "### Pregunta 6\n",
    "\n",
    "Python dispone de un idiom muy útil conocido como list comprehensions. ¿Puedes explicar en qué consiste? Indicad \n",
    "**dos ejemplos** de código que utilicen este idiom y documentad cada parte de código relevante.\n",
    "\n",
    "**Respuesta:**"
   ]
  },
  {
   "cell_type": "markdown",
   "metadata": {},
   "source": [
    "Tu respuesta"
   ]
  },
  {
   "cell_type": "code",
   "execution_count": 28,
   "metadata": {},
   "outputs": [
    {
     "name": "stdout",
     "output_type": "stream",
     "text": [
      "[0, 2, 4, 6, 8, 10, 12, 14, 16, 18]\n",
      "\n",
      "\n",
      "[(0, 0), (0, -1), (1, 0), (1, -1)]\n"
     ]
    }
   ],
   "source": [
    "\n",
    "list = [x*2 for x in range(10)]\n",
    "print(list)\n",
    "print(\"\\n\")\n",
    "list1 = [(x*1, y*(-1)) for x in range(2) for y in range(2)]\n",
    "print(list1)\n"
   ]
  },
  {
   "cell_type": "code",
   "execution_count": 20,
   "metadata": {},
   "outputs": [
    {
     "name": "stdout",
     "output_type": "stream",
     "text": [
      "['a', 'b', 'c']\n"
     ]
    }
   ],
   "source": [
    "list = [l.lower() for l in [\"A\", \"B\" , \"C\"]]\n",
    "print (list)"
   ]
  },
  {
   "cell_type": "markdown",
   "metadata": {},
   "source": [
    "### Ejercicio 1\n",
    "\n",
    "Escribe un programa que asigne dos valores enteros cualquiera (escoged vosotros un número entero aleatorio, no es necesario utilizar ninguna librería externa) a dos variables con nombre t y w, calcule el producto de t por dos veces w y finalmente muestre el valor del cuadrado de la operación anterior:\n",
    "\n",
    "f(t, w) = (t \\* 2 \\* w)<sup>2</sup>\n",
    "\n",
    "**Nota:** No es necesario utilizar ninguna libreria, ni importar ningún módulo para escoger el numero aleatorio ni para resolver este ejercicio."
   ]
  },
  {
   "cell_type": "code",
   "execution_count": 55,
   "metadata": {},
   "outputs": [
    {
     "name": "stdout",
     "output_type": "stream",
     "text": [
      "900\n"
     ]
    }
   ],
   "source": [
    "t = 5\n",
    "w = 3\n",
    "\n",
    "result = pow((t * 2 * w),2)\n",
    "print(result)"
   ]
  },
  {
   "cell_type": "markdown",
   "metadata": {},
   "source": [
    "### Ejercicio 2\n",
    "\n",
    "Escribe un programa que defina una lista cuyos valores sean los nombres de los meses del año. Ordénalos por orden lexicográfico:"
   ]
  },
  {
   "cell_type": "code",
   "execution_count": 61,
   "metadata": {},
   "outputs": [
    {
     "name": "stdout",
     "output_type": "stream",
     "text": [
      "['April', 'August', 'December', 'February', 'January', 'July', 'June', 'March', 'May', 'November', 'October', 'September']\n"
     ]
    }
   ],
   "source": [
    "# Tu respuesta\n",
    "months = [\"January\",\"February\",\"March\",\"April\",\"May\",\"June\",\n",
    "          \"July\",\"August\",\"September\",\"October\",\"November\",\"December\"]\n",
    "\n",
    "months.sort()\n",
    "print(months)\n"
   ]
  },
  {
   "cell_type": "markdown",
   "metadata": {},
   "source": [
    "### Ejercicio 3\n",
    "\n",
    "Escribe un programa que calcule e imprima el volumen de una esfera de radio 23.5:"
   ]
  },
  {
   "cell_type": "code",
   "execution_count": 62,
   "metadata": {},
   "outputs": [
    {
     "name": "stdout",
     "output_type": "stream",
     "text": [
      "3.141592653589793\n"
     ]
    }
   ],
   "source": [
    "# Podéis utilizar la librería math para conseguir el valor de PI:\n",
    "\n",
    "import math\n",
    "print(math.pi)"
   ]
  },
  {
   "cell_type": "code",
   "execution_count": 76,
   "metadata": {},
   "outputs": [
    {
     "name": "stdout",
     "output_type": "stream",
     "text": [
      "54361.6\n"
     ]
    }
   ],
   "source": [
    "# Tu respuesta\n",
    "radius = 23.5\n",
    "\n",
    "valumen = (4/3)* math.pi * (pow(radius,3))\n",
    "print(round(valumen,2))\n"
   ]
  },
  {
   "cell_type": "markdown",
   "metadata": {},
   "source": [
    "### Ejercicio 4\n",
    "\n",
    "Escribe un programa donde se defina un diccionario cuyas claves sean los nombres de los continentes y el valor una lista con animales endémicos de ese continente. Por ejemplo:\n",
    "\n",
    "```\n",
    "animales -> Europa: (Lince ibérico, Bison Europeo, Vaca Suiza),\n",
    "            África: (León, Elefante Africano, Avestruz),\n",
    "            ...\n",
    "```\n",
    "\n",
    "Un diccionario es una estructura de datos de Python, por favor repasa la teoria si no lo recuerdas."
   ]
  },
  {
   "cell_type": "code",
   "execution_count": 79,
   "metadata": {},
   "outputs": [
    {
     "name": "stdout",
     "output_type": "stream",
     "text": [
      "{'Europa': ('Lince ibérico', 'Bison Europeo', 'Vaca Suiza'), 'África': ('León', 'Elefante Africano', 'Avestruz')}\n"
     ]
    }
   ],
   "source": [
    "# Tu respuesta\n",
    "\n",
    "animales = {\"Europa\": (\"Lince ibérico\", \"Bison Europeo\", \"Vaca Suiza\"),\n",
    "           \"África\": (\"León\", \"Elefante Africano\", \"Avestruz\")}\n",
    "print(animales)\n"
   ]
  },
  {
   "cell_type": "markdown",
   "metadata": {},
   "source": [
    "### Ejercicio 5\n",
    "\n",
    "Completa el código Python para imprimir la Fuerza que se ha ejercido:\n",
    "\n",
    "velocidad_inicial -> 0 m/s<sup>2</sup>\n",
    "\n",
    "espacio -> 10 m\n",
    "\n",
    "tiempo -> 10 s\n",
    "\n",
    "masa -> 5 kg\n",
    "\n",
    "**velocidad_final = espacio / tiempo**\n",
    "\n",
    "**aceleracion = (velocidad_final - velocidad_inicial) / tiempo**\n",
    "\n",
    "**Fuerza = masa * aceleracion**"
   ]
  },
  {
   "cell_type": "code",
   "execution_count": 80,
   "metadata": {},
   "outputs": [
    {
     "name": "stdout",
     "output_type": "stream",
     "text": [
      "Fuerza ejercida: 0.5 Newtons\n"
     ]
    }
   ],
   "source": [
    "# Completa el código necesario:\n",
    "\n",
    "vi = 0.0\n",
    "s = 10.0\n",
    "t = 10\n",
    "m = 5\n",
    "\n",
    "vf = s/t\n",
    "a = (vf - vi)/ t\n",
    "f = m * a\n",
    "\n",
    "print('Fuerza ejercida: ' + str(f) +' Newtons')"
   ]
  },
  {
   "cell_type": "markdown",
   "metadata": {},
   "source": [
    "### Ejercicio 6\n",
    "\n",
    "Escribe un programa que imprima la versión del intérprete de Python que se está ejecutando:"
   ]
  },
  {
   "cell_type": "code",
   "execution_count": 81,
   "metadata": {},
   "outputs": [
    {
     "name": "stdout",
     "output_type": "stream",
     "text": [
      "3.7.3\n"
     ]
    }
   ],
   "source": [
    "# Tu respuesta\n",
    "import platform\n",
    "print(platform.python_version())"
   ]
  },
  {
   "cell_type": "code",
   "execution_count": null,
   "metadata": {},
   "outputs": [],
   "source": [
    "### No es correcto, hay que utilizar la librería estándar de Python:\n",
    "\n",
    "print('Versión de Python es 3.6')"
   ]
  },
  {
   "cell_type": "markdown",
   "metadata": {},
   "source": [
    "### Ejercicio 7\n",
    "\n",
    "Escribe un programa que imprima la fecha y la hora actuales:"
   ]
  },
  {
   "cell_type": "code",
   "execution_count": 105,
   "metadata": {},
   "outputs": [
    {
     "name": "stdout",
     "output_type": "stream",
     "text": [
      "2019-06-18\n",
      "12:48:53\n"
     ]
    }
   ],
   "source": [
    "# Tu respuesta:\n",
    "from datetime import datetime\n",
    "\n",
    "now = datetime.now()\n",
    "\n",
    "print(now.date())\n",
    "print(now.strftime(\"%H:%M:%S\"))"
   ]
  },
  {
   "cell_type": "markdown",
   "metadata": {},
   "source": [
    "### Ejercicio 8\n",
    "\n",
    "Escribe un programa que calcule el número de días entre estas dos fechas:\n",
    "\n",
    "05/10/1984\n",
    "\n",
    "01/03/2019\n"
   ]
  },
  {
   "cell_type": "code",
   "execution_count": 103,
   "metadata": {},
   "outputs": [
    {
     "name": "stdout",
     "output_type": "stream",
     "text": [
      "2018-10-21\n"
     ]
    }
   ],
   "source": [
    "# Podemos crear una fecha de la siguiente forma:\n",
    "\n",
    "from datetime import date\n",
    "\n",
    "# El formato es: Año, mes, día:\n",
    "d = date(2018, 10, 21)\n",
    "print(d)"
   ]
  },
  {
   "cell_type": "code",
   "execution_count": 107,
   "metadata": {},
   "outputs": [
    {
     "name": "stdout",
     "output_type": "stream",
     "text": [
      "12565\n"
     ]
    }
   ],
   "source": [
    "# Tu respuesta\n",
    "\n",
    "from datetime import datetime\n",
    "\n",
    "date1 = date(1984, 10, 5)\n",
    "date2 = date(2019, 3, 1)\n",
    "\n",
    "print((date2 - date1).days) \n",
    "\n",
    "# Hay que utilizar la librería datetime y el módulo date:\n",
    "from datetime import date"
   ]
  },
  {
   "cell_type": "code",
   "execution_count": null,
   "metadata": {},
   "outputs": [],
   "source": []
  }
 ],
 "metadata": {
  "kernelspec": {
   "display_name": "Python 3",
   "language": "python",
   "name": "python3"
  },
  "language_info": {
   "codemirror_mode": {
    "name": "ipython",
    "version": 3
   },
   "file_extension": ".py",
   "mimetype": "text/x-python",
   "name": "python",
   "nbconvert_exporter": "python",
   "pygments_lexer": "ipython3",
   "version": "3.7.3"
  }
 },
 "nbformat": 4,
 "nbformat_minor": 1
}
