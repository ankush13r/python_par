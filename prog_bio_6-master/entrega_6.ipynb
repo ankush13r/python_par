{
 "cells": [
  {
   "cell_type": "markdown",
   "metadata": {},
   "source": [
    "# Programación para la Bioinformática\n",
    "\n",
    "## Unidad 6: Testing y calidad del software\n",
    "\n",
    "### Ejercicios y preguntas teóricas"
   ]
  },
  {
   "cell_type": "markdown",
   "metadata": {},
   "source": [
    "### Pregunta téorica 1\n",
    "\n",
    "Enumera y explica en qué consisten otras librerías Python para probar código (mínimo 3):"
   ]
  },
  {
   "cell_type": "markdown",
   "metadata": {},
   "source": [
    "`Mi respuesta:`\n",
    "\n",
    "1).  Otra forma de hacer test leiendo desde el fichero. Funciona igual que `` doctest.testmod()``, Pero desde un fichero\n",
    "```python\n",
    "doctest.testfile(file_name.txt) \n",
    "```\n",
    "\n",
    "2). pytest: Es una libreria parecida al unitest, pero más sensilla. Aquí no hace falte importar ninguna libreria, aunque hace falta instalar, porque no pertenece a la librería estander del python. Adémas, no hace falta ni crear los métodos de test como en unitest.\n",
    " ```python\n",
    "def prueba(a,b):\n",
    "    assert a == b, \"a and b should be equal\"\n",
    "       \n",
    "prueba(3,3) ## \n",
    "prueba(3,2) ##\n",
    " ```\n",
    "3). nose2: Es una librería compatible con el unitest, que al ejecutar nos busca todos los test en el programa.\n",
    "\n",
    "`nosetests -v test_um_nose.py`\n",
    "\n",
    "or\n",
    "\n",
    "`nose2`  -> este caso mirara todos los archivos que comiencen por la palabra `test`"
   ]
  },
  {
   "cell_type": "markdown",
   "metadata": {},
   "source": [
    "### Pregunta téorica 2\n",
    "\n",
    "Explica en tus propias palabras el concepto de **cobertura de código** (*test coverage* en Inglés):"
   ]
  },
  {
   "cell_type": "markdown",
   "metadata": {},
   "source": [
    "`Mi respuesta: `\n",
    "    Las heramientas de cobertura de código hace un seguimiento de la ejecución de los test. Van tomando nota de las lineas visitad, para demostrar las estadisticas sobre qué porcentaje del código hace la prueba.\n",
    "    Es a decir, cobertura de código sirve para saber cuanto código estamos probando del total."
   ]
  },
  {
   "cell_type": "markdown",
   "metadata": {},
   "source": [
    "### Pregunta téorica 3\n",
    "\n",
    "Aunque nos hemos centrado en los tests unitarios, hemos comentado que existen otros tipos de tests. Enumera **al menos dos otros tipos de tests** y explica en tus propias palabras qué uso tienen y en qué consisten."
   ]
  },
  {
   "cell_type": "markdown",
   "metadata": {},
   "source": [
    "`Mi respuesta: `\n",
    "\n",
    "1). **Integration testing:** Los *test de Integration* basan en la combinación de los módulos de la aplicacón y hace las puebas como en un grupo para ver que estén funcionado bien. El uso de este tipo de pruebas se hace después del *Unit test* y antes del *System testing*.\n",
    "\n",
    "2).**System testing:** Sirve para eavaluar/comprobar que el sistema cumple con todos los requisitos especificados que puede necesitar nuestra aplicación. pruebas del sistema ayudan a aprobar y verificar los requisitos comerciales, funcionales, técnicos y no funcionales de la aplicación con respecto a la arquitectura en general."
   ]
  },
  {
   "cell_type": "markdown",
   "metadata": {},
   "source": [
    "### Pregunta teórica 4\n",
    "\n",
    "¿Es posible hacer pruebas cuando utilizamos objetos *Exception* en nuestro código? Si es así, explica cómo y pon como mínimo 2 ejemplos que se puedan ejecutar:"
   ]
  },
  {
   "cell_type": "markdown",
   "metadata": {},
   "source": [
    "`Mi respuesta:` \n",
    "    Si es posible hacer las pruebas. Para poder hacer una prueba y utilizar el objeto Exception, podemos crear un método que levante(*raize*) la excepción y llamar lo desde la prueba.\n"
   ]
  },
  {
   "cell_type": "code",
   "execution_count": null,
   "metadata": {},
   "outputs": [],
   "source": []
  },
  {
   "cell_type": "markdown",
   "metadata": {},
   "source": [
    "### Ejercicio 1\n",
    "\n",
    "**Hablamos de tests en verde cuando todos nuestros tests se ejecutan correctamente y dan el resultado esperado y tests en rojo en caso contrario.**\n",
    "\n",
    "En el siguiente ejercicio, escribe el código necesario que haga cumplir todos los tests, es decir, que los tests estén *en verde*."
   ]
  },
  {
   "cell_type": "code",
   "execution_count": 51,
   "metadata": {},
   "outputs": [
    {
     "name": "stderr",
     "output_type": "stream",
     "text": [
      "....\n",
      "----------------------------------------------------------------------\n",
      "Ran 4 tests in 0.004s\n",
      "\n",
      "OK\n"
     ]
    }
   ],
   "source": [
    "import unittest\n",
    "import sys\n",
    "\n",
    "\n",
    "class Fraccion(object):\n",
    "    \"\"\"Clase que representa una fracción matemática\"\"\"\n",
    "    \n",
    "    def __init__(self, numerador, denominador):\n",
    "        \"\"\"Inicializa el objeto fracción\"\"\"\n",
    "        self.numerador = numerador\n",
    "        self.denominador = denominador\n",
    "    \n",
    "    def get_numerador(self):\n",
    "        \"\"\"Retorna el numerador de la fracción\"\"\"\n",
    "        return self.numerador\n",
    "    \n",
    "    def get_denominador(self):\n",
    "        \"\"\"Retorna el denominador de la fracción\"\"\"\n",
    "        return self.denominador\n",
    "    \n",
    "    def multiplica(self, other):\n",
    "        \"\"\"Devuelve la multiplicación de fracciones\"\"\"\n",
    "        return Fraccion(self.get_numerador() * other.get_numerador(),self.get_denominador() * other.get_denominador())\n",
    "    \n",
    "\n",
    "class TestFraccion(unittest.TestCase):\n",
    "\n",
    "    def test_crear_fraccion(self):\n",
    "        f = Fraccion(1, 2)\n",
    "        self.assertIsNotNone(f)\n",
    "        \n",
    "    def test_numerador(self):\n",
    "        f = Fraccion(1, 2)\n",
    "        self.assertEqual(f.get_numerador(), 1)\n",
    "        \n",
    "    def test_denominador(self):\n",
    "        f = Fraccion(2, 4)\n",
    "        self.assertEqual(f.get_denominador(), 4)\n",
    "    \n",
    "    def test_multiplicacion_fracciones(self):\n",
    "        f1 = Fraccion(1, 2)\n",
    "        f2 = Fraccion(2, 5)\n",
    "        \n",
    "        f3 = f1.multiplica(f2)\n",
    "        \n",
    "        self.assertEqual(f3.get_numerador(), 2)\n",
    "        self.assertEqual(f3.get_denominador(), 10)\n",
    "\n",
    "        \n",
    "if __name__ == '__main__':\n",
    "    suite = unittest.TestLoader().loadTestsFromTestCase( TestFraccion )\n",
    "    unittest.TextTestRunner(verbosity=1,stream=sys.stderr).run( suite )\n",
    "    \n"
   ]
  },
  {
   "cell_type": "markdown",
   "metadata": {},
   "source": [
    "### Ejercicio 2\n",
    "\n",
    "Escribe una función cualquiera y escribe algunas pruebas de código utilizando ***doctest***:"
   ]
  },
  {
   "cell_type": "code",
   "execution_count": 173,
   "metadata": {},
   "outputs": [],
   "source": [
    "# Mi respuesta\n",
    "\n",
    "def test_debug(nombre, apellido):\n",
    "    \"\"\"\n",
    "Comprueba si los mail esta bién hechos\n",
    "Comprueba si los mail esta bién hechos\n",
    "\n",
    "    >>> test_debug(\"Ankush\",\"Rana\")\n",
    "    'ankush.rana@bsc.es'\n",
    "    >>> test_debug(\"Bob\",\"Marley\")\n",
    "    'bob.marley@bsc.es'\n",
    "    \"\"\"\n",
    "    \n",
    "    mail = f\"{nombre}.{apellido}@bsc.es\".lower()\n",
    "    return mail\n",
    "\n",
    "\n",
    "if __name__ == '__main__':\n",
    "    import doctest\n",
    "    doctest.testmod()"
   ]
  },
  {
   "cell_type": "markdown",
   "metadata": {},
   "source": [
    "### Ejercicio 3\n",
    "\n",
    "Los cuaterniones (en Inglés *quaternion*) son un tipo matemático que funcionan como extensión de los vectores en espacio 3D añadiendo una dimensión extra, muy utilizados en videojuegos para aplicar rotaciones sobre un conjunto de puntos y que tienen claras ventajas en comparación con las matrices de rotación. Podéis aprender más sobre ellos en la [Wikipedia](https://es.wikipedia.org/wiki/Cuaterni%C3%B3n).\n",
    "\n",
    "A continuación tenéis el código de una clase *Quaternion* que implementa algunas funciones sencillas (suma y resta). Escribid tantos tests como consideréis para conseguir una buena cobertura de código:"
   ]
  },
  {
   "cell_type": "code",
   "execution_count": 145,
   "metadata": {},
   "outputs": [
    {
     "name": "stderr",
     "output_type": "stream",
     "text": [
      "...\n",
      "----------------------------------------------------------------------\n",
      "Ran 3 tests in 0.002s\n",
      "\n",
      "OK\n"
     ]
    }
   ],
   "source": [
    "import unittest\n",
    "import sys\n",
    "\n",
    "\n",
    "class Quaternion:\n",
    "\n",
    "    def __init__(self, w=1., x=0., y=0., z=0.):\n",
    "        \"\"\"Crea un cuaternión. Devuelve por defecto el cuaternión unitario.\"\"\"\n",
    "        self.w = w\n",
    "        self.x = x\n",
    "        self.y = y\n",
    "        self.z = z\n",
    "\n",
    "    def __neg__(self):\n",
    "        \"\"\"Negación de un cuaternión. \n",
    "        \n",
    "        Se llama: q2 = -q1\n",
    "        \"\"\"\n",
    "        return Quaternion(-self.w, -self.x, -self.y, -self.z)\n",
    "\n",
    "    def __add__(self, other):\n",
    "        \"\"\"Implementa la suma de cuaterniones. \n",
    "        \n",
    "        Ejemplo: \n",
    "        q1 = Quaternion()\n",
    "        q2 = Quaternion()\n",
    "        \n",
    "        q3 = q1 + q2\n",
    "        \n",
    "        \"\"\"\n",
    "        return Quaternion(self.w+other.w, self.x+other.x, self.y+other.y, self.z+other.z)\n",
    "\n",
    "    def __sub__(self, other):\n",
    "        \"\"\"Implementa la resta de cuaterniones.\"\"\"\n",
    "        return Quaternion(self.w-other.w, self.x-other.x, self.y-other.y, self.z-other.z)\n",
    "    \n",
    "\n",
    "class TestQuaternion(unittest.TestCase):\n",
    "    # Código a completar\n",
    "\n",
    "    def test_create_quaternion(self):\n",
    "        w = 3; x=5; y=2; z=1;\n",
    "        quaternion = Quaternion(w,x,y,z)\n",
    "        self.assertIsNotNone(quaternion)\n",
    "        self.assertEqual(quaternion.w,w)\n",
    "        self.assertEqual(quaternion.x,x)\n",
    "        self.assertEqual(quaternion.y,y)\n",
    "        self.assertEqual(quaternion.z,z)\n",
    "            \n",
    "    def test_negation(self):\n",
    "        w = 3; x=5; y=2; z=1;\n",
    "        quaternion = Quaternion(w,x,y,z)\n",
    "        quaternion_neg = quaternion.__neg__()\n",
    "        self.assertEqual(quaternion_neg.w,-w)\n",
    "        self.assertEqual(quaternion_neg.x,-x)\n",
    "        self.assertEqual(quaternion_neg.y,-y)\n",
    "        self.assertEqual(quaternion_neg.z,-z)\n",
    "        \n",
    "    def test_add(self):\n",
    "        w = 3; x=5; y=2; z=1;\n",
    "        w1 = 6; x1=2; y1=4; z1=3;\n",
    "        \n",
    "        quaternion1 = Quaternion(w,x,y,z)\n",
    "        quaternion2 = Quaternion(w1,x1,y1,z1)\n",
    "\n",
    "        quaternion_add = quaternion1.__add__(quaternion2)\n",
    "        self.assertEqual(quaternion_add.w,w1+w)\n",
    "        self.assertEqual(quaternion_add.x,x1+x)\n",
    "        self.assertEqual(quaternion_add.y,y1+y)\n",
    "        self.assertEqual(quaternion_add.z,z1+z)\n",
    "       \n",
    "    def test_add(self):\n",
    "        w = 3; x=5; y=2; z=1;\n",
    "        w1 = 6; x1=2; y1=4; z1=3;\n",
    "        \n",
    "        quaternion1 = Quaternion(w,x,y,z)\n",
    "        quaternion2 = Quaternion(w1,x1,y1,z1)\n",
    "\n",
    "        quaternion_add = quaternion1.__sub__(quaternion2)\n",
    "        self.assertEqual(quaternion_add.w,w-w1)\n",
    "        self.assertEqual(quaternion_add.x,x-x1)\n",
    "        self.assertEqual(quaternion_add.y,y-y1)\n",
    "        self.assertEqual(quaternion_add.z,z-z1)\n",
    "        \n",
    "        \n",
    "if __name__ == '__main__':\n",
    "    suite = unittest.TestLoader().loadTestsFromTestCase( TestQuaternion )\n",
    "    unittest.TextTestRunner(verbosity=1,stream=sys.stderr).run( suite )"
   ]
  },
  {
   "cell_type": "code",
   "execution_count": null,
   "metadata": {},
   "outputs": [],
   "source": []
  },
  {
   "cell_type": "code",
   "execution_count": null,
   "metadata": {},
   "outputs": [],
   "source": []
  },
  {
   "cell_type": "code",
   "execution_count": null,
   "metadata": {},
   "outputs": [],
   "source": []
  }
 ],
 "metadata": {
  "kernelspec": {
   "display_name": "Python 3",
   "language": "python",
   "name": "python3"
  },
  "language_info": {
   "codemirror_mode": {
    "name": "ipython",
    "version": 3
   },
   "file_extension": ".py",
   "mimetype": "text/x-python",
   "name": "python",
   "nbconvert_exporter": "python",
   "pygments_lexer": "ipython3",
   "version": "3.7.3"
  }
 },
 "nbformat": 4,
 "nbformat_minor": 2
}
