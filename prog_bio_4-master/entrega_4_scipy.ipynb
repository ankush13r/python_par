{
 "cells": [
  {
   "cell_type": "code",
   "execution_count": 2,
   "metadata": {},
   "outputs": [
    {
     "ename": "ModuleNotFoundError",
     "evalue": "No module named 'numpy'",
     "output_type": "error",
     "traceback": [
      "\u001b[0;31m---------------------------------------------------------------------------\u001b[0m",
      "\u001b[0;31mModuleNotFoundError\u001b[0m                       Traceback (most recent call last)",
      "\u001b[0;32m<ipython-input-2-ad4be0a9438e>\u001b[0m in \u001b[0;36m<module>\u001b[0;34m\u001b[0m\n\u001b[0;32m----> 1\u001b[0;31m \u001b[0;32mimport\u001b[0m \u001b[0mnumpy\u001b[0m \u001b[0;32mas\u001b[0m \u001b[0mnp\u001b[0m\u001b[0;34m\u001b[0m\u001b[0;34m\u001b[0m\u001b[0m\n\u001b[0m\u001b[1;32m      2\u001b[0m \u001b[0;32mimport\u001b[0m \u001b[0mmatplotlib\u001b[0m\u001b[0;34m.\u001b[0m\u001b[0mpyplot\u001b[0m \u001b[0;32mas\u001b[0m \u001b[0mplt\u001b[0m\u001b[0;34m\u001b[0m\u001b[0;34m\u001b[0m\u001b[0m\n\u001b[1;32m      3\u001b[0m \u001b[0;32mfrom\u001b[0m \u001b[0mscipy\u001b[0m\u001b[0;34m.\u001b[0m\u001b[0mintegrate\u001b[0m \u001b[0;32mimport\u001b[0m \u001b[0modeint\u001b[0m\u001b[0;34m\u001b[0m\u001b[0;34m\u001b[0m\u001b[0m\n\u001b[1;32m      4\u001b[0m \u001b[0;32mdef\u001b[0m \u001b[0mfun\u001b[0m\u001b[0;34m(\u001b[0m\u001b[0mx\u001b[0m\u001b[0;34m,\u001b[0m\u001b[0mt\u001b[0m\u001b[0;34m)\u001b[0m\u001b[0;34m:\u001b[0m\u001b[0;34m\u001b[0m\u001b[0;34m\u001b[0m\u001b[0m\n\u001b[1;32m      5\u001b[0m     \u001b[0mdydt\u001b[0m \u001b[0;34m=\u001b[0m \u001b[0mt\u001b[0m\u001b[0;34m**\u001b[0m\u001b[0mx\u001b[0m\u001b[0;34m\u001b[0m\u001b[0;34m\u001b[0m\u001b[0m\n",
      "\u001b[0;31mModuleNotFoundError\u001b[0m: No module named 'numpy'"
     ]
    }
   ],
   "source": [
    "import numpy as np\n",
    "import matplotlib.pyplot as plt\n",
    "from scipy.integrate import odeint\n",
    "def fun(x,t):\n",
    "    dydt = t**x\n",
    "    return dydt\n",
    "\n",
    "t  = np.linspace(0, 5., 4)\n",
    "\n",
    "f = odeint(fun,4,t)\n",
    "y = (fun(4,t))\n",
    "\n",
    "plt.figure()\n",
    "plt.xlabel(\"y\")\n",
    "plt.plot(t, y, label='y')\n",
    "\n",
    "plt.figure()\n",
    "plt.xlabel(\"f\")\n",
    "plt.plot(t, f, label='f')\n",
    "\n",
    "\n",
    "# Es una Prueba no entiendo por que los gráficos salen difrentes y con odient no me convence si esta bién o mal"
   ]
  },
  {
   "cell_type": "markdown",
   "metadata": {},
   "source": [
    "# Programación para la Bioinformática"
   ]
  },
  {
   "cell_type": "markdown",
   "metadata": {},
   "source": [
    "Módulo 4: Librerías científicas en Python - Scipy - Ejercicios\n",
    "-------------------------------------------------"
   ]
  },
  {
   "cell_type": "markdown",
   "metadata": {},
   "source": [
    "Ejercicios\n",
    "----------\n",
    "\n",
    "A continuación tenéis el único ejercicio a resolver en esta parte del módulo. Dada la especificidad de los algoritmos que se implementan en la librería Scipy, hemos seleccionado un problema más simple que los mostrados como ejemplo.\n",
    "\n",
    "### Ejercicio 1: Calculando los átomos en la interfaz de unión de dos proteínas\n",
    "Dos proteínas A y B se unen para formar un complejo proteico. Se define la interfaz de unión entre A y B como los átomos de A que están a una distancia de 4Å (Angstroms) o menos de cualquier átomo de B. En la siguiente figura, la proteína A está representada en azul y la proteína B en naranja. Los átomos de B que están en contacto con algún átomo de A se han coloreado en verde:\n",
    "\n",
    "<img src=\"files/media/interfaz_1ppe.png\">\n",
    "\n",
    "A continuación, tenéis el código que tendréis que completar. Tenéis que calcular el número de átomos de A y de B que están en contacto con átomos de B y de A respectivamente y el número total de átomos en la interfaz. **Pista**: podéis utilizar la función _scipy.spatial.distance.cdist_ (http://docs.scipy.org/doc/scipy/reference/generated/scipy.spatial.distance.cdist.html#scipy.spatial.distance.cdist) y la función _numpy.where_.\n",
    "\n"
   ]
  },
  {
   "cell_type": "code",
   "execution_count": 1,
   "metadata": {},
   "outputs": [
    {
     "name": "stdout",
     "output_type": "stream",
     "text": [
      "[[18.62599329 18.65548659 17.69547934 ... 12.58128018 13.47120537\n",
      "  14.52290339]\n",
      " [18.72350432 18.85847783 17.91765819 ... 13.38126082 14.16069426\n",
      "  15.23022853]\n",
      " [18.73722399 18.95508367 18.11458512 ... 13.38293189 14.11419346\n",
      "  15.2382501 ]\n",
      " ...\n",
      " [35.03739427 34.04766531 32.63757813 ... 33.16718417 33.76572894\n",
      "  33.54443432]\n",
      " [35.20318481 34.1758124  32.78707816 ... 33.28681994 33.8795037\n",
      "  33.62067599]\n",
      " [34.48145365 33.51998702 32.10433222 ... 32.96276889 33.52022085\n",
      "  33.30087346]]\n",
      "Número de átomos de A en contacto con B:  138\n",
      "Número de átomos de B en contacto con A:  138\n",
      "Número total de átomos en contacto:  276\n"
     ]
    }
   ],
   "source": [
    "import numpy as np\n",
    "import os\n",
    "import scipy.spatial\n",
    "\n",
    "\n",
    "def lee_coordenadas_atomo(linea):\n",
    "    \"\"\"Interpreta las coordenadas de una línea de un fichero PDB que empiece por \n",
    "    ATOM (es un átomo)\"\"\"\n",
    "    if linea.startswith('ATOM  '):\n",
    "        x = float(linea[30:38])\n",
    "        y = float(linea[38:46])\n",
    "        z = float(linea[46:54])\n",
    "        return [x, y, z]\n",
    "\n",
    "    \n",
    "def obtiene_coordenadas(estructura):\n",
    "    \"\"\"Lee una estructura (fichero PDB) y obtiene las coordenadas de los \n",
    "    átomos que contiene\"\"\"\n",
    "    coordenadas = []\n",
    "    with open(estructura) as input:\n",
    "        lineas = [linea.rstrip(os.linesep) for linea in input.readlines()]\n",
    "        for linea in lineas:\n",
    "            atomo = lee_coordenadas_atomo(linea)\n",
    "            if atomo:\n",
    "                coordenadas.append(atomo)\n",
    "    return np.array(coordenadas)\n",
    "\n",
    "# Coordenadas_1 tiene las coordenadas de la proteína A en formato numpy\n",
    "coordenadas_1 = obtiene_coordenadas('data/1PPE_rec.pdb')\n",
    "\n",
    "# Coordenadas_2 tiene las coordenadas de la proteína B en formato numpy\n",
    "coordenadas_2 = obtiene_coordenadas('data/1PPE_lig.pdb')\n",
    "\n",
    "\n",
    "# Código a completar:\n",
    "atomos_A_B = 0 \n",
    "atomos_B_A = 0 \n",
    "    \n",
    "distancia_coordenadas = scipy.spatial.distance.cdist(coordenadas_1,coordenadas_2)\n",
    "print(distancia_coordenadas)\n",
    "distancias = np.where(distancia_coordenadas < 4)\n",
    "\n",
    "atomos_A_B = len(distancias[0])\n",
    "atomos_B_A = len(distancias[1])\n",
    "\n",
    "\n",
    "print(\"Número de átomos de A en contacto con B: \", atomos_A_B)\n",
    "\n",
    "print(\"Número de átomos de B en contacto con A: \", atomos_B_A)\n",
    "\n",
    "# Finalmente, el número de átomos total será la suma de ambos:\n",
    "print(\"Número total de átomos en contacto: \", atomos_A_B + atomos_B_A)"
   ]
  },
  {
   "cell_type": "code",
   "execution_count": null,
   "metadata": {},
   "outputs": [],
   "source": []
  },
  {
   "cell_type": "code",
   "execution_count": null,
   "metadata": {},
   "outputs": [],
   "source": []
  }
 ],
 "metadata": {
  "kernelspec": {
   "display_name": "Python 3",
   "language": "python",
   "name": "python3"
  },
  "language_info": {
   "codemirror_mode": {
    "name": "ipython",
    "version": 3
   },
   "file_extension": ".py",
   "mimetype": "text/x-python",
   "name": "python",
   "nbconvert_exporter": "python",
   "pygments_lexer": "ipython3",
   "version": "3.7.3"
  }
 },
 "nbformat": 4,
 "nbformat_minor": 1
}
