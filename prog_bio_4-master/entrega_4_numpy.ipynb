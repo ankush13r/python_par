{
 "cells": [
  {
   "cell_type": "markdown",
   "metadata": {},
   "source": [
    "# Programación para la Bioinformática"
   ]
  },
  {
   "cell_type": "markdown",
   "metadata": {},
   "source": [
    "Módulo 4: Librerías científicas en Python - NumPy - Ejercicios\n",
    "-------------------------------------------------"
   ]
  },
  {
   "cell_type": "markdown",
   "metadata": {},
   "source": [
    "Ejercicios y preguntas teóricas\n",
    "-------------------------------"
   ]
  },
  {
   "cell_type": "markdown",
   "metadata": {},
   "source": [
    "### Ejercicio 1\n",
    "Cread una matriz de 8x8 que tenga un patrón 0 (blancas)/1 (negras) como si se tratara de un tablero de ajedrez. El resultado ha de ser:\n",
    "\n",
    "```\n",
    "[[0 1 0 1 0 1 0 1]\n",
    "[1 0 1 0 1 0 1 0]\n",
    "[0 1 0 1 0 1 0 1]\n",
    "[1 0 1 0 1 0 1 0]\n",
    "[0 1 0 1 0 1 0 1]\n",
    "[1 0 1 0 1 0 1 0]\n",
    "[0 1 0 1 0 1 0 1]\n",
    "[1 0 1 0 1 0 1 0]]\n",
    "```"
   ]
  },
  {
   "cell_type": "code",
   "execution_count": 1,
   "metadata": {},
   "outputs": [
    {
     "name": "stdout",
     "output_type": "stream",
     "text": [
      "\n",
      "[[0 1 0 1 0 1 0 1]\n",
      " [1 0 1 0 1 0 1 0]\n",
      " [0 1 0 1 0 1 0 1]\n",
      " [1 0 1 0 1 0 1 0]\n",
      " [0 1 0 1 0 1 0 1]\n",
      " [1 0 1 0 1 0 1 0]\n",
      " [0 1 0 1 0 1 0 1]\n",
      " [1 0 1 0 1 0 1 0]]\n"
     ]
    }
   ],
   "source": [
    "# Respuesta\n",
    "import numpy as np\n",
    "\n",
    "array = np.zeros((8,8), dtype=int) #es importante poner int para que pueda coger números como enteros\n",
    "\n",
    "array[1::2,0::2] = 1 # Antes de las comas són filas y después són columnas\n",
    "array[::2,1::2] = 1\n",
    "print()\n",
    "print(array)\n"
   ]
  },
  {
   "cell_type": "markdown",
   "metadata": {},
   "source": [
    "#### Ejercicio 2\n",
    "Cread dos matrices de tamaño 6x4 y 4x4 con números reales aleatorios y obtened la matriz resultado de multiplicar la primera por la segunda:"
   ]
  },
  {
   "cell_type": "code",
   "execution_count": 28,
   "metadata": {},
   "outputs": [
    {
     "name": "stdout",
     "output_type": "stream",
     "text": [
      "[[3 4 3 8]\n",
      " [7 3 0 3]\n",
      " [5 6 5 9]\n",
      " [2 1 5 1]\n",
      " [0 0 1 4]\n",
      " [8 2 5 6]] \n",
      "\tx\n",
      "[[8 2 2 8]\n",
      " [7 0 4 7]\n",
      " [3 6 4 8]\n",
      " [4 5 5 5]] \n",
      "\t=\n",
      "[[ 93  64  74 116]\n",
      " [ 89  29  41  92]\n",
      " [133  85  99 167]\n",
      " [ 42  39  33  68]\n",
      " [ 19  26  24  28]\n",
      " [117  76  74 148]]\n"
     ]
    }
   ],
   "source": [
    "# Respuesta\n",
    "array1 = np.random.randint(0,10,(6,4))\n",
    "array2 = np.random.randint(0,10,(4,4))\n",
    "array_final = array1.dot(array2)\n",
    "print(array1, \"\\n\\tx\")\n",
    "print(array2, \"\\n\\t=\")\n",
    "print(array_final)\n",
    "\n"
   ]
  },
  {
   "cell_type": "markdown",
   "metadata": {},
   "source": [
    "### Ejercicio 3\n",
    "Calculad la media y la desviación estándar de un vector aleatorio de 300 elementos:"
   ]
  },
  {
   "cell_type": "code",
   "execution_count": 112,
   "metadata": {},
   "outputs": [
    {
     "name": "stdout",
     "output_type": "stream",
     "text": [
      "Vector AVG -> \t\t149.46\n",
      "Vector deviation -> \t84.30979618842245\n"
     ]
    }
   ],
   "source": [
    "# Respuesta\n",
    "import numpy as np\n",
    "\n",
    "vector = np.random.randint(0,300,300)\n",
    "vector_avarage = np.average(vector) \n",
    "print(\"Vector AVG -> \", end='\\t\\t')\n",
    "print(vector_avarage)\n",
    "\n",
    "vector_deviation = np.std(vector, axis=0)\n",
    "print(\"Vector deviation -> \", end='\\t')\n",
    "print(vector_deviation)"
   ]
  },
  {
   "cell_type": "markdown",
   "metadata": {},
   "source": [
    "### Ejercicio 4\n",
    "Evaluad las funciones seno y arcoseno en el intervalo [-1,1] y con paso (resolución) de 0.025 y guardadlas en dos arrays (evaluar significa calcular):"
   ]
  },
  {
   "cell_type": "code",
   "execution_count": 34,
   "metadata": {},
   "outputs": [
    {
     "name": "stdout",
     "output_type": "stream",
     "text": [
      "Función(Sin):\n",
      " [-8.41470985e-01 -8.27701888e-01 -8.13415505e-01 -7.98620763e-01\n",
      " -7.83326910e-01 -7.67543502e-01 -7.51280405e-01 -7.34547782e-01\n",
      " -7.17356091e-01 -6.99716075e-01 -6.81638760e-01 -6.63135443e-01\n",
      " -6.44217687e-01 -6.24897317e-01 -6.05186406e-01 -5.85097273e-01\n",
      " -5.64642473e-01 -5.43834791e-01 -5.22687229e-01 -5.01213005e-01\n",
      " -4.79425539e-01 -4.57338447e-01 -4.34965534e-01 -4.12320782e-01\n",
      " -3.89418342e-01 -3.66272529e-01 -3.42897807e-01 -3.19308786e-01\n",
      " -2.95520207e-01 -2.71546937e-01 -2.47403959e-01 -2.23106362e-01\n",
      " -1.98669331e-01 -1.74108138e-01 -1.49438132e-01 -1.24674733e-01\n",
      " -9.98334166e-02 -7.49297073e-02 -4.99791693e-02 -2.49973959e-02\n",
      "  8.88178420e-16  2.49973959e-02  4.99791693e-02  7.49297073e-02\n",
      "  9.98334166e-02  1.24674733e-01  1.49438132e-01  1.74108138e-01\n",
      "  1.98669331e-01  2.23106362e-01  2.47403959e-01  2.71546937e-01\n",
      "  2.95520207e-01  3.19308786e-01  3.42897807e-01  3.66272529e-01\n",
      "  3.89418342e-01  4.12320782e-01  4.34965534e-01  4.57338447e-01\n",
      "  4.79425539e-01  5.01213005e-01  5.22687229e-01  5.43834791e-01\n",
      "  5.64642473e-01  5.85097273e-01  6.05186406e-01  6.24897317e-01\n",
      "  6.44217687e-01  6.63135443e-01  6.81638760e-01  6.99716075e-01\n",
      "  7.17356091e-01  7.34547782e-01  7.51280405e-01  7.67543502e-01\n",
      "  7.83326910e-01  7.98620763e-01  8.13415505e-01  8.27701888e-01]\n",
      "\n",
      "Función(Arcsin):\n",
      " [-1.57079633e+00 -1.34672104e+00 -1.25323590e+00 -1.18103559e+00\n",
      " -1.11976951e+00 -1.06543582e+00 -1.01598529e+00 -9.70202200e-01\n",
      " -9.27295218e-01 -8.86715095e-01 -8.48062079e-01 -8.11034394e-01\n",
      " -7.75397497e-01 -7.40964702e-01 -7.07584437e-01 -6.75131533e-01\n",
      " -6.43501109e-01 -6.12604148e-01 -5.82364238e-01 -5.52715113e-01\n",
      " -5.23598776e-01 -4.94964032e-01 -4.66765339e-01 -4.38961886e-01\n",
      " -4.11516846e-01 -3.84396774e-01 -3.57571104e-01 -3.31011728e-01\n",
      " -3.04692654e-01 -2.78589702e-01 -2.52680255e-01 -2.26943036e-01\n",
      " -2.01357921e-01 -1.75905768e-01 -1.50568273e-01 -1.25327831e-01\n",
      " -1.00167421e-01 -7.50704911e-02 -5.00208568e-02 -2.50026049e-02\n",
      "  8.88178420e-16  2.50026049e-02  5.00208568e-02  7.50704911e-02\n",
      "  1.00167421e-01  1.25327831e-01  1.50568273e-01  1.75905768e-01\n",
      "  2.01357921e-01  2.26943036e-01  2.52680255e-01  2.78589702e-01\n",
      "  3.04692654e-01  3.31011728e-01  3.57571104e-01  3.84396774e-01\n",
      "  4.11516846e-01  4.38961886e-01  4.66765339e-01  4.94964032e-01\n",
      "  5.23598776e-01  5.52715113e-01  5.82364238e-01  6.12604148e-01\n",
      "  6.43501109e-01  6.75131533e-01  7.07584437e-01  7.40964702e-01\n",
      "  7.75397497e-01  8.11034394e-01  8.48062079e-01  8.86715095e-01\n",
      "  9.27295218e-01  9.70202200e-01  1.01598529e+00  1.06543582e+00\n",
      "  1.11976951e+00  1.18103559e+00  1.25323590e+00  1.34672104e+00]\n"
     ]
    }
   ],
   "source": [
    "# Respuesta\n",
    "import numpy as np\n",
    "points_x = np.arange(-1,1,0.025)\n",
    "\n",
    "points_sin = np.sin(points_x)\n",
    "points_cos = np.arcsin(points_x)\n",
    "\n",
    "print(\"Función(Sin):\\n\",points_sin)\n",
    "print(\"\\nFunción(Arcsin):\\n\",points_cos)"
   ]
  },
  {
   "cell_type": "markdown",
   "metadata": {},
   "source": [
    "### Ejercicio 5\n",
    "En química computacional, es muy útil simular mediante la técnica de dinámica molecular cómo pequeños ligandos (por ejemplo, la aspirina) se unen a otras proteínas. Esta unión entre una proteína y un ligando puede bloquear la unión de esa misma proteína junto a otras, potenciarla, etc.\n",
    "En nuestro caso, hemos obtenido dos capturas del movimiento de la molécula de aspirina y deseamos saber cuál es la distancia en términos de RMSD entre ambas, es decir, cuánto se ha movido entre una captura y la otra. Si representáramos ese movimiento, podríamos visualizar algo similar a esto:\n",
    "\n",
    "<img src=\"files/media/aspirin_structures.png\">\n",
    "\n",
    "A continuación, tenéis parte del código que deberéis completar para calcular la distancia RMSD que está definida de la siguiente forma: https://en.wikipedia.org/wiki/Root-mean-square_deviation_of_atomic_positions.  \n",
    "\n",
    "<img src=\"files/media/rmsd.svg\">\n",
    "\n",
    "La variable *estructura_1* contiene la información de las coordenadas de los átomos de la primera captura y *estructura_2* la segunda:"
   ]
  },
  {
   "cell_type": "code",
   "execution_count": 35,
   "metadata": {},
   "outputs": [
    {
     "name": "stdout",
     "output_type": "stream",
     "text": [
      "0.2538080967975605\n"
     ]
    }
   ],
   "source": [
    "import numpy as np\n",
    "import os\n",
    "\n",
    "\n",
    "# Estructura atómica en formato PDB\n",
    "estructura_1 = \"\"\"\n",
    "HETATM    1  C4  AIN A 141      20.988  20.013   8.918  1.00 32.08           C\n",
    "HETATM    2  C3  AIN A 141      19.732  19.385   8.857  1.00 32.34           C\n",
    "HETATM    3  C2  AIN A 141      19.527  18.104   9.636  1.00 33.22           C\n",
    "HETATM    4  C5  AIN A 141      21.977  19.496   9.752  1.00 31.39           C\n",
    "HETATM    5  H4  AIN A 141      21.183  20.890   8.320  1.00  0.00           H\n",
    "HETATM    6  C6  AIN A 141      21.761  18.347  10.492  1.00 31.52           C\n",
    "HETATM    7  H5  AIN A 141      22.932  19.991   9.830  1.00  0.00           H\n",
    "HETATM    8  C1  AIN A 141      20.570  17.658  10.434  1.00 32.96           C\n",
    "HETATM    9  H6  AIN A 141      22.537  17.967  11.139  1.00  0.00           H\n",
    "HETATM   10  H1  AIN A 141      20.440  16.756  11.015  1.00  0.00           H\n",
    "HETATM   11  C7  AIN A 141      18.679  19.893   7.921  1.00 32.12           C\n",
    "HETATM   12  O1  AIN A 141      18.856  21.012   7.231  1.00 28.52           O\n",
    "HETATM   13  O2  AIN A 141      17.582  19.373   7.818  1.00 32.90           O\n",
    "HETATM   14  O3  AIN A 141      18.290  17.505   9.519  1.00 35.01           O\n",
    "HETATM   15  C8  AIN A 141      17.117  17.595  10.410  1.00 35.75           C\n",
    "HETATM   16  O4  AIN A 141      16.308  16.678  10.381  1.00 37.46           O\n",
    "HETATM   17  C9  AIN A 141      16.879  18.753  11.344  1.00 36.44           C\n",
    "HETATM   18  H91 AIN A 141      15.952  18.591  11.895  1.00  0.00           H\n",
    "HETATM   19  H92 AIN A 141      17.709  18.830  12.046  1.00  0.00           H\n",
    "HETATM   20  H93 AIN A 141      16.803  19.676  10.769  1.00  0.00           H\n",
    "\"\"\"\n",
    "\n",
    "estructura_2 = \"\"\"\n",
    "HETATM    1  C4  AIN A 141      20.909  19.934   8.896  1.00 32.08           C\n",
    "HETATM    2  C3  AIN A 141      19.652  19.312   8.766  1.00 32.34           C\n",
    "HETATM    3  C2  AIN A 141      19.387  18.158   9.565  1.00 33.22           C\n",
    "HETATM    4  C5  AIN A 141      21.860  19.487   9.821  1.00 31.39           C\n",
    "HETATM    5  H4  AIN A 141      21.131  20.820   8.331  1.00  0.00           H\n",
    "HETATM    6  C6  AIN A 141      21.586  18.379  10.634  1.00 31.52           C\n",
    "HETATM    7  H5  AIN A 141      22.771  20.048   9.926  1.00  0.00           H\n",
    "HETATM    8  C1  AIN A 141      20.364  17.703  10.480  1.00 32.96           C\n",
    "HETATM    9  H6  AIN A 141      22.314  18.043  11.358  1.00  0.00           H\n",
    "HETATM   10  H1  AIN A 141      20.171  16.825  11.079  1.00  0.00           H\n",
    "HETATM   11  C7  AIN A 141      18.638  19.970   7.867  1.00 32.12           C\n",
    "HETATM   12  O1  AIN A 141      18.979  20.954   7.165  1.00 28.52           O\n",
    "HETATM   13  O2  AIN A 141      17.431  19.667   7.937  1.00 32.90           O\n",
    "HETATM   14  O3  AIN A 141      18.249  17.398   9.458  1.00 35.01           O\n",
    "HETATM   15  C8  AIN A 141      17.235  17.488  10.335  1.00 35.75           C\n",
    "HETATM   16  O4  AIN A 141      16.343  16.644  10.397  1.00 37.46           O\n",
    "HETATM   17  C9  AIN A 141      17.211  18.698  11.261  1.00 36.44           C\n",
    "HETATM   18  H91 AIN A 141      16.416  18.581  11.994  1.00  0.00           H\n",
    "HETATM   19  H92 AIN A 141      18.154  18.814  11.795  1.00  0.00           H\n",
    "HETATM   20  H93 AIN A 141      17.020  19.587  10.663  1.00  0.00           H\n",
    "\"\"\"\n",
    "\n",
    "def lee_coordenadas_atomo(linea):\n",
    "    \"\"\"Obtiene de una línea de texto en formato PDB las coordenadas en f\n",
    "    ormato numérico\"\"\"\n",
    "    if linea.startswith('HETATM'):\n",
    "        x = float(linea[30:38])    # Coordenada x\n",
    "        y = float(linea[38:46])    # Coordenada y\n",
    "        z = float(linea[46:54])    # Coordenada z\n",
    "        return [x, y, z]\n",
    "\n",
    "    \n",
    "def obtiene_coordenadas(estructura):\n",
    "    \"\"\"Transforma las coordenadas de cada átomo en un array numpy\"\"\"\n",
    "    coordenadas = []\n",
    "    for linea in estructura.split(os.linesep):\n",
    "        atomo = lee_coordenadas_atomo(linea)\n",
    "        if atomo:\n",
    "            coordenadas.append(atomo)\n",
    "    return np.array(coordenadas)\n",
    "\n",
    "\n",
    "def calcula_rmsd_numpy(coordenadas_1, coordenadas_2):\n",
    "    \"\"\"Calcula la RMSD entre dos conjuntos de coordenadas atómicas\"\"\"\n",
    "    # Aquí es dónde tenéis que completar el código. La solución puede ser \n",
    "    # una sola línea gracias a la capacidad de NumPy de hacer cálculos con \n",
    "    # matrices mediante \"broadcast\".\n",
    "    # Si no dais con una solución en una línea no hay problema :)\n",
    "    \n",
    "\n",
    "    rmsd = np.sqrt(np.sum((coordenadas_2 - coordenadas_1)**2)/len(coordenadas_1))\n",
    "    \n",
    "    # Esta es la línea a modificar con vuestra solución\n",
    "    return rmsd\n",
    "\n",
    "\n",
    "coordenadas_1 = obtiene_coordenadas(estructura_1)\n",
    "coordenadas_2 = obtiene_coordenadas(estructura_2)\n",
    "\n",
    "rmsd = calcula_rmsd_numpy(coordenadas_1, coordenadas_2)\n",
    "\n",
    "print(rmsd)"
   ]
  },
  {
   "cell_type": "markdown",
   "metadata": {},
   "source": [
    "**El resultado del cálculo de la RMSD ha de ser de `0.253808096798`, no puede ser un número entero.**"
   ]
  },
  {
   "cell_type": "markdown",
   "metadata": {},
   "source": [
    "### Ejercicio 6\n",
    "\n",
    "Crea un vector de números enteros aleatorios de 30 posiciones y ordénalo:"
   ]
  },
  {
   "cell_type": "code",
   "execution_count": 152,
   "metadata": {},
   "outputs": [
    {
     "name": "stdout",
     "output_type": "stream",
     "text": [
      "[ 0  0  0  1  3  5  6  7  9  9 11 12 13 17 18 18 18 20 21 22 24 24 26 27\n",
      " 27 28 28 28 29 29]\n"
     ]
    }
   ],
   "source": [
    "# Respuesta\n",
    "import numpy as np\n",
    "\n",
    "vector = np.random.randint(0,30,30)\n",
    "vector_sorted = np.sort(vector)\n",
    "print(vector_sorted)"
   ]
  },
  {
   "cell_type": "markdown",
   "metadata": {},
   "source": [
    "### Ejercicio 7\n",
    "\n",
    "Dado un vector `Z` con números aleatorios entre 0 y 1 de 100 posiciones y un valor `v` aleatorio entre 0 y 1, encuentra cuál es el valor en `Z` más próximo a `v`:"
   ]
  },
  {
   "cell_type": "code",
   "execution_count": 173,
   "metadata": {},
   "outputs": [
    {
     "name": "stdout",
     "output_type": "stream",
     "text": [
      "0.5669280060591112\n"
     ]
    }
   ],
   "source": [
    "import numpy as np\n",
    "\n",
    "Z = np.random.random(100)\n",
    "v = np.random.uniform(0,1)\n",
    "\n",
    "# Respuesta\n",
    "\n",
    "min_value_index = np.abs(Z-v).argmin()  # Aquí de cada elemento resto el valor y lo convierto en absoluto. \n",
    "                                        # Despues del todo obtengo el indice del valor min que será más próximo a v\n",
    "print(Z[min_value_index])"
   ]
  },
  {
   "cell_type": "markdown",
   "metadata": {},
   "source": [
    "### Ejercicio 8\n",
    "\n",
    "En un vector de 100 posiciones, encuentra cuál es el valor que se repite de forma más frecuente:"
   ]
  },
  {
   "cell_type": "code",
   "execution_count": 207,
   "metadata": {},
   "outputs": [
    {
     "name": "stdout",
     "output_type": "stream",
     "text": [
      "[9 9 6 4 3 6 1 4 1 3 5 0 3 7 7 7 7 0 7 2 1 1 7 7 6 8 9 7 8 9 1 1 4 0 1 6 6\n",
      " 3 1 7 7 2 0 2 8 5 0 0 4 3 9 9 2 2 6 7 7 9 6 2 1 7 6 5 5 6 0 7 3 2 3 5 3 1\n",
      " 3 2 2 2 9 5 5 0 0 6 1 6 9 9 4 0 9 7 9 0 8 8 3 5 8 6]\n",
      "\n",
      "Array con todas las repeticiones\n",
      "(array([0, 1, 2, 3, 4, 5, 6, 7, 8, 9]), array([11, 11, 10, 10,  5,  8, 12, 15,  6, 12]))\n",
      "Valor más repetido\n",
      "7\n"
     ]
    }
   ],
   "source": [
    "import numpy as np\n",
    "\n",
    "Z = np.random.randint(0,10,100)\n",
    "\n",
    "print(Z)\n",
    "\n",
    "# Respuesta\n",
    "\n",
    "value = np.unique(Z, return_counts=True)\n",
    "max_repeated_value_index = value[1].argmax()\n",
    "\n",
    "print(\"\\nArray con todas las repeticiones\")\n",
    "print(value)\n",
    "\n",
    "print(\"Valor más repetido\")\n",
    "print(value[0][max_repeated_value_index])\n",
    "\n"
   ]
  }
 ],
 "metadata": {
  "kernelspec": {
   "display_name": "Python 3",
   "language": "python",
   "name": "python3"
  },
  "language_info": {
   "codemirror_mode": {
    "name": "ipython",
    "version": 3
   },
   "file_extension": ".py",
   "mimetype": "text/x-python",
   "name": "python",
   "nbconvert_exporter": "python",
   "pygments_lexer": "ipython3",
   "version": "3.7.3"
  }
 },
 "nbformat": 4,
 "nbformat_minor": 1
}
