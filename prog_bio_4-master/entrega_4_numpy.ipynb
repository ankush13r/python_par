{
 "cells": [
  {
   "cell_type": "markdown",
   "metadata": {},
   "source": [
    "# Programación para la Bioinformática"
   ]
  },
  {
   "cell_type": "markdown",
   "metadata": {},
   "source": [
    "Módulo 4: Librerías científicas en Python - NumPy - Ejercicios\n",
    "-------------------------------------------------"
   ]
  },
  {
   "cell_type": "markdown",
   "metadata": {},
   "source": [
    "Ejercicios y preguntas teóricas\n",
    "-------------------------------"
   ]
  },
  {
   "cell_type": "markdown",
   "metadata": {},
   "source": [
    "### Ejercicio 1\n",
    "Cread una matriz de 8x8 que tenga un patrón 0 (blancas)/1 (negras) como si se tratara de un tablero de ajedrez. El resultado ha de ser:\n",
    "\n",
    "```\n",
    "[[0 1 0 1 0 1 0 1]\n",
    "[1 0 1 0 1 0 1 0]\n",
    "[0 1 0 1 0 1 0 1]\n",
    "[1 0 1 0 1 0 1 0]\n",
    "[0 1 0 1 0 1 0 1]\n",
    "[1 0 1 0 1 0 1 0]\n",
    "[0 1 0 1 0 1 0 1]\n",
    "[1 0 1 0 1 0 1 0]]\n",
    "```"
   ]
  },
  {
   "cell_type": "code",
   "execution_count": 46,
   "metadata": {},
   "outputs": [
    {
     "name": "stdout",
     "output_type": "stream",
     "text": [
      "[[0. 1. 0. 1. 0. 1. 0. 1.]\n",
      " [1. 0. 1. 0. 1. 0. 1. 0.]\n",
      " [0. 1. 0. 1. 0. 1. 0. 1.]\n",
      " [1. 0. 1. 0. 1. 0. 1. 0.]\n",
      " [0. 1. 0. 1. 0. 1. 0. 1.]\n",
      " [1. 0. 1. 0. 1. 0. 1. 0.]\n",
      " [0. 1. 0. 1. 0. 1. 0. 1.]\n",
      " [1. 0. 1. 0. 1. 0. 1. 0.]]\n"
     ]
    }
   ],
   "source": [
    "# Respuesta\n",
    "import numpy as np\n",
    "\n",
    "array = np.zeros(8*8).reshape(8,8)\n",
    "\n",
    "for columna_idx,fila in enumerate(array):\n",
    "    for fila_idx, columna_elem in enumerate(fila):\n",
    "        if fila_idx % 2==0and columna_idx % 2==1: # Si la fila es par y lo columa es impar\n",
    "            array[fila_idx,columna_idx] = 1       \n",
    "        elif fila_idx % 2 ==1 and columna_idx % 2==0: # Si la fila es impar y la columa par\n",
    "            array[fila_idx,columna_idx] = 1\n",
    "print(array)\n",
    "\n"
   ]
  },
  {
   "cell_type": "markdown",
   "metadata": {},
   "source": [
    "#### Ejercicio 2\n",
    "Cread dos matrices de tamaño 6x4 y 4x4 con números reales aleatorios y obtened la matriz resultado de multiplicar la primera por la segunda:"
   ]
  },
  {
   "cell_type": "code",
   "execution_count": 2,
   "metadata": {},
   "outputs": [
    {
     "ename": "NameError",
     "evalue": "name 'np' is not defined",
     "output_type": "error",
     "traceback": [
      "\u001b[0;31m---------------------------------------------------------------------------\u001b[0m",
      "\u001b[0;31mNameError\u001b[0m                                 Traceback (most recent call last)",
      "\u001b[0;32m<ipython-input-2-72b81507a8cb>\u001b[0m in \u001b[0;36m<module>\u001b[0;34m\u001b[0m\n\u001b[1;32m      1\u001b[0m \u001b[0;31m# Respuesta\u001b[0m\u001b[0;34m\u001b[0m\u001b[0;34m\u001b[0m\u001b[0;34m\u001b[0m\u001b[0m\n\u001b[0;32m----> 2\u001b[0;31m \u001b[0marray1\u001b[0m \u001b[0;34m=\u001b[0m \u001b[0mnp\u001b[0m\u001b[0;34m.\u001b[0m\u001b[0mrandom\u001b[0m\u001b[0;34m.\u001b[0m\u001b[0mrandint\u001b[0m\u001b[0;34m(\u001b[0m\u001b[0;36m0\u001b[0m\u001b[0;34m,\u001b[0m\u001b[0;36m10\u001b[0m\u001b[0;34m,\u001b[0m\u001b[0;34m(\u001b[0m\u001b[0;36m6\u001b[0m\u001b[0;34m,\u001b[0m\u001b[0;36m4\u001b[0m\u001b[0;34m)\u001b[0m\u001b[0;34m)\u001b[0m\u001b[0;34m\u001b[0m\u001b[0;34m\u001b[0m\u001b[0m\n\u001b[0m\u001b[1;32m      3\u001b[0m \u001b[0marray2\u001b[0m \u001b[0;34m=\u001b[0m \u001b[0mnp\u001b[0m\u001b[0;34m.\u001b[0m\u001b[0mrandom\u001b[0m\u001b[0;34m.\u001b[0m\u001b[0mrandint\u001b[0m\u001b[0;34m(\u001b[0m\u001b[0;36m0\u001b[0m\u001b[0;34m,\u001b[0m\u001b[0;36m10\u001b[0m\u001b[0;34m,\u001b[0m\u001b[0;34m(\u001b[0m\u001b[0;36m4\u001b[0m\u001b[0;34m,\u001b[0m\u001b[0;36m4\u001b[0m\u001b[0;34m)\u001b[0m\u001b[0;34m)\u001b[0m\u001b[0;34m\u001b[0m\u001b[0;34m\u001b[0m\u001b[0m\n\u001b[1;32m      4\u001b[0m \u001b[0marray_final\u001b[0m \u001b[0;34m=\u001b[0m \u001b[0marray1\u001b[0m\u001b[0;34m.\u001b[0m\u001b[0mdot\u001b[0m\u001b[0;34m(\u001b[0m\u001b[0marray2\u001b[0m\u001b[0;34m)\u001b[0m\u001b[0;34m\u001b[0m\u001b[0;34m\u001b[0m\u001b[0m\n\u001b[1;32m      5\u001b[0m \u001b[0mprint\u001b[0m\u001b[0;34m(\u001b[0m\u001b[0marray1\u001b[0m\u001b[0;34m)\u001b[0m\u001b[0;34m\u001b[0m\u001b[0;34m\u001b[0m\u001b[0m\n",
      "\u001b[0;31mNameError\u001b[0m: name 'np' is not defined"
     ]
    }
   ],
   "source": [
    "# Respuesta\n",
    "array1 = np.random.randint(0,10,(6,4))\n",
    "array2 = np.random.randint(0,10,(4,4))\n",
    "array_final = array1.dot(array2)\n",
    "print(array1)"
   ]
  },
  {
   "cell_type": "markdown",
   "metadata": {},
   "source": [
    "### Ejercicio 3\n",
    "Calculad la media y la desviación estándar de un vector aleatorio de 300 elementos:"
   ]
  },
  {
   "cell_type": "code",
   "execution_count": 112,
   "metadata": {},
   "outputs": [
    {
     "name": "stdout",
     "output_type": "stream",
     "text": [
      "Vector AVG -> \t\t149.46\n",
      "Vector deviation -> \t84.30979618842245\n"
     ]
    }
   ],
   "source": [
    "# Respuesta\n",
    "import numpy as np\n",
    "\n",
    "vector = np.random.randint(0,300,300)\n",
    "vector_avarage = np.average(vector) \n",
    "print(\"Vector AVG -> \", end='\\t\\t')\n",
    "print(vector_avarage)\n",
    "\n",
    "vector_deviation = np.std(vector, axis=0)\n",
    "print(\"Vector deviation -> \", end='\\t')\n",
    "print(vector_deviation)"
   ]
  },
  {
   "cell_type": "markdown",
   "metadata": {},
   "source": [
    "### Ejercicio 4\n",
    "Evaluad las funciones seno y arcoseno en el intervalo [-1,1] y con paso (resolución) de 0.025 y guardadlas en dos arrays (evaluar significa calcular):"
   ]
  },
  {
   "cell_type": "code",
   "execution_count": 4,
   "metadata": {},
   "outputs": [
    {
     "ename": "ModuleNotFoundError",
     "evalue": "No module named 'numpy'",
     "output_type": "error",
     "traceback": [
      "\u001b[0;31m---------------------------------------------------------------------------\u001b[0m",
      "\u001b[0;31mModuleNotFoundError\u001b[0m                       Traceback (most recent call last)",
      "\u001b[0;32m<ipython-input-4-b86ff17f6deb>\u001b[0m in \u001b[0;36m<module>\u001b[0;34m\u001b[0m\n\u001b[1;32m      1\u001b[0m \u001b[0;31m# Respuesta\u001b[0m\u001b[0;34m\u001b[0m\u001b[0;34m\u001b[0m\u001b[0;34m\u001b[0m\u001b[0m\n\u001b[0;32m----> 2\u001b[0;31m \u001b[0;32mimport\u001b[0m \u001b[0mnumpy\u001b[0m \u001b[0;32mas\u001b[0m \u001b[0mnp\u001b[0m\u001b[0;34m\u001b[0m\u001b[0;34m\u001b[0m\u001b[0m\n\u001b[0m\u001b[1;32m      3\u001b[0m \u001b[0mpoints_x\u001b[0m \u001b[0;34m=\u001b[0m \u001b[0mnp\u001b[0m\u001b[0;34m.\u001b[0m\u001b[0marange\u001b[0m\u001b[0;34m(\u001b[0m\u001b[0;34m-\u001b[0m\u001b[0;36m1\u001b[0m\u001b[0;34m,\u001b[0m\u001b[0;36m1\u001b[0m\u001b[0;34m,\u001b[0m\u001b[0;36m0.025\u001b[0m\u001b[0;34m)\u001b[0m\u001b[0;34m\u001b[0m\u001b[0;34m\u001b[0m\u001b[0m\n\u001b[1;32m      4\u001b[0m \u001b[0;34m\u001b[0m\u001b[0m\n\u001b[1;32m      5\u001b[0m \u001b[0mpoints_sin\u001b[0m \u001b[0;34m=\u001b[0m \u001b[0mnp\u001b[0m\u001b[0;34m.\u001b[0m\u001b[0msin\u001b[0m\u001b[0;34m(\u001b[0m\u001b[0mpoints_x\u001b[0m\u001b[0;34m)\u001b[0m\u001b[0;34m\u001b[0m\u001b[0;34m\u001b[0m\u001b[0m\n",
      "\u001b[0;31mModuleNotFoundError\u001b[0m: No module named 'numpy'"
     ]
    }
   ],
   "source": [
    "# Respuesta\n",
    "import numpy as np\n",
    "points_x = np.arange(-1,1,0.025)\n",
    "\n",
    "points_sin = np.sin(points_x)\n",
    "points_cos = np.cos(points_x)\n",
    "\n",
    "print(points_sin)\n",
    "print(points_cos)"
   ]
  },
  {
   "cell_type": "markdown",
   "metadata": {},
   "source": [
    "### Ejercicio 5\n",
    "En química computacional, es muy útil simular mediante la técnica de dinámica molecular cómo pequeños ligandos (por ejemplo, la aspirina) se unen a otras proteínas. Esta unión entre una proteína y un ligando puede bloquear la unión de esa misma proteína junto a otras, potenciarla, etc.\n",
    "En nuestro caso, hemos obtenido dos capturas del movimiento de la molécula de aspirina y deseamos saber cuál es la distancia en términos de RMSD entre ambas, es decir, cuánto se ha movido entre una captura y la otra. Si representáramos ese movimiento, podríamos visualizar algo similar a esto:\n",
    "\n",
    "<img src=\"files/media/aspirin_structures.png\">\n",
    "\n",
    "A continuación, tenéis parte del código que deberéis completar para calcular la distancia RMSD que está definida de la siguiente forma: https://en.wikipedia.org/wiki/Root-mean-square_deviation_of_atomic_positions.  \n",
    "\n",
    "<img src=\"files/media/rmsd.svg\">\n",
    "\n",
    "La variable *estructura_1* contiene la información de las coordenadas de los átomos de la primera captura y *estructura_2* la segunda:"
   ]
  },
  {
   "cell_type": "code",
   "execution_count": 45,
   "metadata": {},
   "outputs": [
    {
     "name": "stdout",
     "output_type": "stream",
     "text": [
      "0.2538080967975605\n"
     ]
    }
   ],
   "source": [
    "import numpy as np\n",
    "import os\n",
    "\n",
    "\n",
    "# Estructura atómica en formato PDB\n",
    "estructura_1 = \"\"\"\n",
    "HETATM    1  C4  AIN A 141      20.988  20.013   8.918  1.00 32.08           C\n",
    "HETATM    2  C3  AIN A 141      19.732  19.385   8.857  1.00 32.34           C\n",
    "HETATM    3  C2  AIN A 141      19.527  18.104   9.636  1.00 33.22           C\n",
    "HETATM    4  C5  AIN A 141      21.977  19.496   9.752  1.00 31.39           C\n",
    "HETATM    5  H4  AIN A 141      21.183  20.890   8.320  1.00  0.00           H\n",
    "HETATM    6  C6  AIN A 141      21.761  18.347  10.492  1.00 31.52           C\n",
    "HETATM    7  H5  AIN A 141      22.932  19.991   9.830  1.00  0.00           H\n",
    "HETATM    8  C1  AIN A 141      20.570  17.658  10.434  1.00 32.96           C\n",
    "HETATM    9  H6  AIN A 141      22.537  17.967  11.139  1.00  0.00           H\n",
    "HETATM   10  H1  AIN A 141      20.440  16.756  11.015  1.00  0.00           H\n",
    "HETATM   11  C7  AIN A 141      18.679  19.893   7.921  1.00 32.12           C\n",
    "HETATM   12  O1  AIN A 141      18.856  21.012   7.231  1.00 28.52           O\n",
    "HETATM   13  O2  AIN A 141      17.582  19.373   7.818  1.00 32.90           O\n",
    "HETATM   14  O3  AIN A 141      18.290  17.505   9.519  1.00 35.01           O\n",
    "HETATM   15  C8  AIN A 141      17.117  17.595  10.410  1.00 35.75           C\n",
    "HETATM   16  O4  AIN A 141      16.308  16.678  10.381  1.00 37.46           O\n",
    "HETATM   17  C9  AIN A 141      16.879  18.753  11.344  1.00 36.44           C\n",
    "HETATM   18  H91 AIN A 141      15.952  18.591  11.895  1.00  0.00           H\n",
    "HETATM   19  H92 AIN A 141      17.709  18.830  12.046  1.00  0.00           H\n",
    "HETATM   20  H93 AIN A 141      16.803  19.676  10.769  1.00  0.00           H\n",
    "\"\"\"\n",
    "\n",
    "estructura_2 = \"\"\"\n",
    "HETATM    1  C4  AIN A 141      20.909  19.934   8.896  1.00 32.08           C\n",
    "HETATM    2  C3  AIN A 141      19.652  19.312   8.766  1.00 32.34           C\n",
    "HETATM    3  C2  AIN A 141      19.387  18.158   9.565  1.00 33.22           C\n",
    "HETATM    4  C5  AIN A 141      21.860  19.487   9.821  1.00 31.39           C\n",
    "HETATM    5  H4  AIN A 141      21.131  20.820   8.331  1.00  0.00           H\n",
    "HETATM    6  C6  AIN A 141      21.586  18.379  10.634  1.00 31.52           C\n",
    "HETATM    7  H5  AIN A 141      22.771  20.048   9.926  1.00  0.00           H\n",
    "HETATM    8  C1  AIN A 141      20.364  17.703  10.480  1.00 32.96           C\n",
    "HETATM    9  H6  AIN A 141      22.314  18.043  11.358  1.00  0.00           H\n",
    "HETATM   10  H1  AIN A 141      20.171  16.825  11.079  1.00  0.00           H\n",
    "HETATM   11  C7  AIN A 141      18.638  19.970   7.867  1.00 32.12           C\n",
    "HETATM   12  O1  AIN A 141      18.979  20.954   7.165  1.00 28.52           O\n",
    "HETATM   13  O2  AIN A 141      17.431  19.667   7.937  1.00 32.90           O\n",
    "HETATM   14  O3  AIN A 141      18.249  17.398   9.458  1.00 35.01           O\n",
    "HETATM   15  C8  AIN A 141      17.235  17.488  10.335  1.00 35.75           C\n",
    "HETATM   16  O4  AIN A 141      16.343  16.644  10.397  1.00 37.46           O\n",
    "HETATM   17  C9  AIN A 141      17.211  18.698  11.261  1.00 36.44           C\n",
    "HETATM   18  H91 AIN A 141      16.416  18.581  11.994  1.00  0.00           H\n",
    "HETATM   19  H92 AIN A 141      18.154  18.814  11.795  1.00  0.00           H\n",
    "HETATM   20  H93 AIN A 141      17.020  19.587  10.663  1.00  0.00           H\n",
    "\"\"\"\n",
    "\n",
    "def lee_coordenadas_atomo(linea):\n",
    "    \"\"\"Obtiene de una línea de texto en formato PDB las coordenadas en f\n",
    "    ormato numérico\"\"\"\n",
    "    if linea.startswith('HETATM'):\n",
    "        x = float(linea[30:38])    # Coordenada x\n",
    "        y = float(linea[38:46])    # Coordenada y\n",
    "        z = float(linea[46:54])    # Coordenada z\n",
    "        return [x, y, z]\n",
    "\n",
    "    \n",
    "def obtiene_coordenadas(estructura):\n",
    "    \"\"\"Transforma las coordenadas de cada átomo en un array numpy\"\"\"\n",
    "    coordenadas = []\n",
    "    for linea in estructura.split(os.linesep):\n",
    "        atomo = lee_coordenadas_atomo(linea)\n",
    "        if atomo:\n",
    "            coordenadas.append(atomo)\n",
    "    return np.array(coordenadas)\n",
    "\n",
    "\n",
    "def calcula_rmsd_numpy(coordenadas_1, coordenadas_2):\n",
    "    \"\"\"Calcula la RMSD entre dos conjuntos de coordenadas atómicas\"\"\"\n",
    "    # Aquí es dónde tenéis que completar el código. La solución puede ser \n",
    "    # una sola línea gracias a la capacidad de NumPy de hacer cálculos con \n",
    "    # matrices mediante \"broadcast\".\n",
    "    # Si no dais con una solución en una línea no hay problema :)\n",
    "    \n",
    "\n",
    "    Distance_between_array = np.abs((coordenadas_2 - coordenadas_1)**2)\n",
    "    rmsd = np.sqrt(np.sum(Distance_between_array)/len(Distance_between_array))\n",
    "    \n",
    "    # Esta es la línea a modificar con vuestra solución\n",
    "    return rmsd\n",
    "\n",
    "\n",
    "coordenadas_1 = obtiene_coordenadas(estructura_1)\n",
    "coordenadas_2 = obtiene_coordenadas(estructura_2)\n",
    "\n",
    "rmsd = calcula_rmsd_numpy(coordenadas_1, coordenadas_2)\n",
    "\n",
    "print(rmsd)"
   ]
  },
  {
   "cell_type": "markdown",
   "metadata": {},
   "source": [
    "**El resultado del cálculo de la RMSD ha de ser de `0.253808096798`, no puede ser un número entero.**"
   ]
  },
  {
   "cell_type": "markdown",
   "metadata": {},
   "source": [
    "### Ejercicio 6\n",
    "\n",
    "Crea un vector de números enteros aleatorios de 30 posiciones y ordénalo:"
   ]
  },
  {
   "cell_type": "code",
   "execution_count": 152,
   "metadata": {},
   "outputs": [
    {
     "name": "stdout",
     "output_type": "stream",
     "text": [
      "[ 0  0  0  1  3  5  6  7  9  9 11 12 13 17 18 18 18 20 21 22 24 24 26 27\n",
      " 27 28 28 28 29 29]\n"
     ]
    }
   ],
   "source": [
    "# Respuesta\n",
    "import numpy as np\n",
    "\n",
    "vector = np.random.randint(0,30,30)\n",
    "vector_sorted = np.sort(vector)\n",
    "print(vector_sorted)"
   ]
  },
  {
   "cell_type": "markdown",
   "metadata": {},
   "source": [
    "### Ejercicio 7\n",
    "\n",
    "Dado un vector `Z` con números aleatorios entre 0 y 1 de 100 posiciones y un valor `v` aleatorio entre 0 y 1, encuentra cuál es el valor en `Z` más próximo a `v`:"
   ]
  },
  {
   "cell_type": "code",
   "execution_count": null,
   "metadata": {},
   "outputs": [],
   "source": []
  },
  {
   "cell_type": "code",
   "execution_count": 173,
   "metadata": {},
   "outputs": [
    {
     "name": "stdout",
     "output_type": "stream",
     "text": [
      "0.5669280060591112\n"
     ]
    }
   ],
   "source": [
    "import numpy as np\n",
    "\n",
    "Z = np.random.random(100)\n",
    "v = np.random.uniform(0,1)\n",
    "\n",
    "# Respuesta\n",
    "\n",
    "min_value_index = np.abs(Z-v).argmin()  # Aquí de cada elemento resto el valor y lo convierto en absoluto. \n",
    "                                        # Despues del todo obtengo el indice del valor min que será más próximo a v\n",
    "print(Z[min_value_index])"
   ]
  },
  {
   "cell_type": "markdown",
   "metadata": {},
   "source": [
    "### Ejercicio 8\n",
    "\n",
    "En un vector de 100 posiciones, encuentra cuál es el valor que se repite de forma más frecuente:"
   ]
  },
  {
   "cell_type": "code",
   "execution_count": 207,
   "metadata": {},
   "outputs": [
    {
     "name": "stdout",
     "output_type": "stream",
     "text": [
      "[9 9 6 4 3 6 1 4 1 3 5 0 3 7 7 7 7 0 7 2 1 1 7 7 6 8 9 7 8 9 1 1 4 0 1 6 6\n",
      " 3 1 7 7 2 0 2 8 5 0 0 4 3 9 9 2 2 6 7 7 9 6 2 1 7 6 5 5 6 0 7 3 2 3 5 3 1\n",
      " 3 2 2 2 9 5 5 0 0 6 1 6 9 9 4 0 9 7 9 0 8 8 3 5 8 6]\n",
      "\n",
      "Array con todas las repeticiones\n",
      "(array([0, 1, 2, 3, 4, 5, 6, 7, 8, 9]), array([11, 11, 10, 10,  5,  8, 12, 15,  6, 12]))\n",
      "Valor más repetido\n",
      "7\n"
     ]
    }
   ],
   "source": [
    "import numpy as np\n",
    "\n",
    "Z = np.random.randint(0,10,100)\n",
    "\n",
    "print(Z)\n",
    "\n",
    "# Respuesta\n",
    "\n",
    "value = np.unique(Z, return_counts=True)\n",
    "max_repeated_value_index = value[1].argmax()\n",
    "\n",
    "print(\"\\nArray con todas las repeticiones\")\n",
    "print(value)\n",
    "\n",
    "print(\"Valor más repetido\")\n",
    "print(value[0][max_repeated_value_index])\n",
    "\n"
   ]
  }
 ],
 "metadata": {
  "kernelspec": {
   "display_name": "Python 3",
   "language": "python",
   "name": "python3"
  },
  "language_info": {
   "codemirror_mode": {
    "name": "ipython",
    "version": 3
   },
   "file_extension": ".py",
   "mimetype": "text/x-python",
   "name": "python",
   "nbconvert_exporter": "python",
   "pygments_lexer": "ipython3",
   "version": "3.7.3"
  }
 },
 "nbformat": 4,
 "nbformat_minor": 1
}
